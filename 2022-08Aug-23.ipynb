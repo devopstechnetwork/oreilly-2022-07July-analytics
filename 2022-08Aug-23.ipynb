{
 "cells": [
  {
   "cell_type": "markdown",
   "id": "c9fd03b0",
   "metadata": {},
   "source": [
    "# Agenda, week 4\n",
    "\n",
    "1. Recap and Q&A\n",
    "    - Oil prices!\n",
    "2. Text strings\n",
    "    - The `str` accessor\n",
    "    - Cleaning dirty integer data\n",
    "    - Textual statistics\n",
    "    - Trimming strings\n",
    "3. Dates and times\n",
    "    - Date and time dtypes\n",
    "    - Parsing CSV files with times\n",
    "    - Time deltas\n",
    "    - Time series\n",
    "    - Resampling"
   ]
  },
  {
   "cell_type": "code",
   "execution_count": 3,
   "id": "b9e9af4b",
   "metadata": {},
   "outputs": [],
   "source": [
    "import numpy as np\n",
    "import pandas as pd\n",
    "from pandas import Series, DataFrame"
   ]
  },
  {
   "cell_type": "code",
   "execution_count": 4,
   "id": "61f598b2",
   "metadata": {},
   "outputs": [
    {
     "data": {
      "text/html": [
       "<div>\n",
       "<style scoped>\n",
       "    .dataframe tbody tr th:only-of-type {\n",
       "        vertical-align: middle;\n",
       "    }\n",
       "\n",
       "    .dataframe tbody tr th {\n",
       "        vertical-align: top;\n",
       "    }\n",
       "\n",
       "    .dataframe thead th {\n",
       "        text-align: right;\n",
       "    }\n",
       "</style>\n",
       "<table border=\"1\" class=\"dataframe\">\n",
       "  <thead>\n",
       "    <tr style=\"text-align: right;\">\n",
       "      <th></th>\n",
       "      <th>Date</th>\n",
       "      <th>Price</th>\n",
       "    </tr>\n",
       "  </thead>\n",
       "  <tbody>\n",
       "    <tr>\n",
       "      <th>0</th>\n",
       "      <td>1986-01-02</td>\n",
       "      <td>25.56</td>\n",
       "    </tr>\n",
       "    <tr>\n",
       "      <th>1</th>\n",
       "      <td>1986-01-03</td>\n",
       "      <td>26.00</td>\n",
       "    </tr>\n",
       "    <tr>\n",
       "      <th>2</th>\n",
       "      <td>1986-01-06</td>\n",
       "      <td>26.53</td>\n",
       "    </tr>\n",
       "    <tr>\n",
       "      <th>3</th>\n",
       "      <td>1986-01-07</td>\n",
       "      <td>25.85</td>\n",
       "    </tr>\n",
       "    <tr>\n",
       "      <th>4</th>\n",
       "      <td>1986-01-08</td>\n",
       "      <td>25.87</td>\n",
       "    </tr>\n",
       "  </tbody>\n",
       "</table>\n",
       "</div>"
      ],
      "text/plain": [
       "         Date  Price\n",
       "0  1986-01-02  25.56\n",
       "1  1986-01-03  26.00\n",
       "2  1986-01-06  26.53\n",
       "3  1986-01-07  25.85\n",
       "4  1986-01-08  25.87"
      ]
     },
     "execution_count": 4,
     "metadata": {},
     "output_type": "execute_result"
    }
   ],
   "source": [
    "filename = 'oil-prices-master/data/wti-daily.csv'\n",
    "\n",
    "df = pd.read_csv(filename)\n",
    "df.head()"
   ]
  },
  {
   "cell_type": "code",
   "execution_count": 5,
   "id": "f5909f9e",
   "metadata": {},
   "outputs": [
    {
     "data": {
      "text/plain": [
       "145.31"
      ]
     },
     "execution_count": 5,
     "metadata": {},
     "output_type": "execute_result"
    }
   ],
   "source": [
    "# What was the highest-ever price of oil (as per WTI)?\n",
    "\n",
    "df['Price'].max()   # this is the highest price ever"
   ]
  },
  {
   "cell_type": "code",
   "execution_count": null,
   "id": "c2747a1f",
   "metadata": {},
   "outputs": [],
   "source": [
    "# Use .loc with a row selector and a column select"
   ]
  }
 ],
 "metadata": {
  "kernelspec": {
   "display_name": "Python 3 (ipykernel)",
   "language": "python",
   "name": "python3"
  },
  "language_info": {
   "codemirror_mode": {
    "name": "ipython",
    "version": 3
   },
   "file_extension": ".py",
   "mimetype": "text/x-python",
   "name": "python",
   "nbconvert_exporter": "python",
   "pygments_lexer": "ipython3",
   "version": "3.10.6"
  }
 },
 "nbformat": 4,
 "nbformat_minor": 5
}
