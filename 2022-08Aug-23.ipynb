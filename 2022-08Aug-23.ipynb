{
 "cells": [
  {
   "cell_type": "markdown",
   "id": "e4992514",
   "metadata": {},
   "source": [
    "# Agenda, week 4\n",
    "\n",
    "1. Recap and Q&A\n",
    "    - Oil prices!\n",
    "2. Text strings\n",
    "    - The `str` accessor\n",
    "    - Cleaning dirty integer data\n",
    "    - Textual statistics\n",
    "    - Trimming strings\n",
    "3. Dates and times\n",
    "    - Date and time dtypes\n",
    "    - Parsing CSV files with times\n",
    "    - Time deltas\n",
    "    - Time series\n",
    "    - Resampling"
   ]
  },
  {
   "cell_type": "code",
   "execution_count": 3,
   "id": "06316c81",
   "metadata": {},
   "outputs": [],
   "source": [
    "import numpy as np\n",
    "import pandas as pd\n",
    "from pandas import Series, DataFrame"
   ]
  },
  {
   "cell_type": "code",
   "execution_count": 4,
   "id": "f9850707",
   "metadata": {},
   "outputs": [
    {
     "data": {
      "text/html": [
       "<div>\n",
       "<style scoped>\n",
       "    .dataframe tbody tr th:only-of-type {\n",
       "        vertical-align: middle;\n",
       "    }\n",
       "\n",
       "    .dataframe tbody tr th {\n",
       "        vertical-align: top;\n",
       "    }\n",
       "\n",
       "    .dataframe thead th {\n",
       "        text-align: right;\n",
       "    }\n",
       "</style>\n",
       "<table border=\"1\" class=\"dataframe\">\n",
       "  <thead>\n",
       "    <tr style=\"text-align: right;\">\n",
       "      <th></th>\n",
       "      <th>Date</th>\n",
       "      <th>Price</th>\n",
       "    </tr>\n",
       "  </thead>\n",
       "  <tbody>\n",
       "    <tr>\n",
       "      <th>0</th>\n",
       "      <td>1986-01-02</td>\n",
       "      <td>25.56</td>\n",
       "    </tr>\n",
       "    <tr>\n",
       "      <th>1</th>\n",
       "      <td>1986-01-03</td>\n",
       "      <td>26.00</td>\n",
       "    </tr>\n",
       "    <tr>\n",
       "      <th>2</th>\n",
       "      <td>1986-01-06</td>\n",
       "      <td>26.53</td>\n",
       "    </tr>\n",
       "    <tr>\n",
       "      <th>3</th>\n",
       "      <td>1986-01-07</td>\n",
       "      <td>25.85</td>\n",
       "    </tr>\n",
       "    <tr>\n",
       "      <th>4</th>\n",
       "      <td>1986-01-08</td>\n",
       "      <td>25.87</td>\n",
       "    </tr>\n",
       "  </tbody>\n",
       "</table>\n",
       "</div>"
      ],
      "text/plain": [
       "         Date  Price\n",
       "0  1986-01-02  25.56\n",
       "1  1986-01-03  26.00\n",
       "2  1986-01-06  26.53\n",
       "3  1986-01-07  25.85\n",
       "4  1986-01-08  25.87"
      ]
     },
     "execution_count": 4,
     "metadata": {},
     "output_type": "execute_result"
    }
   ],
   "source": [
    "filename = 'oil-prices-master/data/wti-daily.csv'\n",
    "\n",
    "df = pd.read_csv(filename)\n",
    "df.head()"
   ]
  },
  {
   "cell_type": "code",
   "execution_count": 5,
   "id": "15f38aad",
   "metadata": {},
   "outputs": [
    {
     "data": {
      "text/plain": [
       "145.31"
      ]
     },
     "execution_count": 5,
     "metadata": {},
     "output_type": "execute_result"
    }
   ],
   "source": [
    "# What was the highest-ever price of oil (as per WTI)?\n",
    "\n",
    "df['Price'].max()   # this is the highest price ever"
   ]
  },
  {
   "cell_type": "code",
   "execution_count": 6,
   "id": "ef04fc40",
   "metadata": {},
   "outputs": [
    {
     "data": {
      "text/plain": [
       "0       False\n",
       "1       False\n",
       "2       False\n",
       "3       False\n",
       "4       False\n",
       "        ...  \n",
       "9222    False\n",
       "9223    False\n",
       "9224    False\n",
       "9225    False\n",
       "9226    False\n",
       "Name: Price, Length: 9227, dtype: bool"
      ]
     },
     "execution_count": 6,
     "metadata": {},
     "output_type": "execute_result"
    }
   ],
   "source": [
    "\n",
    "df['Price'] == df['Price'].max()  # this returns a boolean series"
   ]
  },
  {
   "cell_type": "code",
   "execution_count": 8,
   "id": "ac139721",
   "metadata": {},
   "outputs": [
    {
     "data": {
      "text/plain": [
       "5678    2008-07-03\n",
       "Name: Date, dtype: object"
      ]
     },
     "execution_count": 8,
     "metadata": {},
     "output_type": "execute_result"
    }
   ],
   "source": [
    "# Use .loc with a row selector and a column selector\n",
    "# our row selector will be our boolean series\n",
    "\n",
    "\n",
    "df.loc[\n",
    "    df['Price'] == df['Price'].max(),   # row selector\n",
    "    'Date' # column selector\n",
    "]"
   ]
  },
  {
   "cell_type": "code",
   "execution_count": 9,
   "id": "a74a9fb2",
   "metadata": {},
   "outputs": [
    {
     "data": {
      "text/plain": [
       "8643    2020-04-20\n",
       "Name: Date, dtype: object"
      ]
     },
     "execution_count": 9,
     "metadata": {},
     "output_type": "execute_result"
    }
   ],
   "source": [
    "# what was the minimum price ever found of WTI?\n",
    "\n",
    "\n",
    "df.loc[\n",
    "    df['Price'] == df['Price'].min(),   # row selector\n",
    "    'Date'                              # column selector\n",
    "]"
   ]
  },
  {
   "cell_type": "code",
   "execution_count": null,
   "id": "457c8e7a",
   "metadata": {},
   "outputs": [],
   "source": []
  }
 ],
 "metadata": {
  "kernelspec": {
   "display_name": "Python 3 (ipykernel)",
   "language": "python",
   "name": "python3"
  },
  "language_info": {
   "codemirror_mode": {
    "name": "ipython",
    "version": 3
   },
   "file_extension": ".py",
   "mimetype": "text/x-python",
   "name": "python",
   "nbconvert_exporter": "python",
   "pygments_lexer": "ipython3",
   "version": "3.10.6"
  }
 },
 "nbformat": 4,
 "nbformat_minor": 5
}
