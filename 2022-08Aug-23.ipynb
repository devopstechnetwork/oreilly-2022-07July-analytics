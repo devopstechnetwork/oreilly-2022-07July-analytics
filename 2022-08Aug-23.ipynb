{
 "cells": [
  {
   "cell_type": "markdown",
   "id": "c3707aac",
   "metadata": {},
   "source": [
    "# Agenda, week 4\n",
    "\n",
    "1\n",
    "1. Text strings\n",
    "\n",
    "\n",
    "\n",
    "2. Dates and times\n"
   ]
  },
  {
   "cell_type": "code",
   "execution_count": null,
   "id": "f7b430c1",
   "metadata": {},
   "outputs": [],
   "source": []
  }
 ],
 "metadata": {
  "kernelspec": {
   "display_name": "Python 3 (ipykernel)",
   "language": "python",
   "name": "python3"
  },
  "language_info": {
   "codemirror_mode": {
    "name": "ipython",
    "version": 3
   },
   "file_extension": ".py",
   "mimetype": "text/x-python",
   "name": "python",
   "nbconvert_exporter": "python",
   "pygments_lexer": "ipython3",
   "version": "3.10.6"
  }
 },
 "nbformat": 4,
 "nbformat_minor": 5
}
