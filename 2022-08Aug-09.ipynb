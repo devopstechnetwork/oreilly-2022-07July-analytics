{
 "cells": [
  {
   "cell_type": "markdown",
   "id": "87a142b8",
   "metadata": {},
   "source": [
    "# Agenda: Week 2\n",
    "\n",
    "1. Recap\n",
    "2. Dtypes (the types of data that we can use in Pandas)\n",
    "3. `NaN` (\"not a number\")\n",
    "4. DataFrames (2D data structures that we use in Pandas)\n",
    "5. Adding and removing data in our data frames\n",
    "6. Useful methods in our data frames\n",
    "7. Querying with boolean indexes\n",
    "8. Querying with `loc`\n",
    "9. Reading CSV data (meaning: Real-world data into our data frames)"
   ]
  },
  {
   "cell_type": "markdown",
   "id": "dafcde3e",
   "metadata": {},
   "source": [
    "# Last week, quick recap\n",
    "\n",
    "1. Pandas has two types of data\n",
    "    - series (1D)\n",
    "    - data frame (2D)\n",
    "2. We can create a series by passing a Python list (or a similar iterable, such as a NumPy array)\n",
    "3. We can assign an index of our choosing to our series\n",
    "    - By default, it numbers the elements starting at 0, just like a list/string/tuple\n",
    "    - If we assign our own index, we can use integers, floats, or even strings\n",
    "4. Retrieving\n",
    "    - Retrieve via the index using `.loc`\n",
    "    - Retrieve via the numeric position (starting at 0) with `.iloc`\n",
    "    - We can use slices\n",
    "5. Broadcasting\n",
    "    - If we apply an operator to a series and a single value, that value is \"broadcast\" with the operator to every element of the series.  We get back a new series, the result of applying the value with the operator.\n",
    "    - If we use broadcasting with `==` or other comparison operators, we get back a \"boolean series,\" containing only `True` and `False` values\n",
    "6. Boolean indexing\n",
    "    - If we apply a boolean index to an existing series, then only those items that match a `True` value are returned.  Those matching a `False` value are ignored.\n",
    "    - This is why we don't need to use `if` or `for` in Pandas.  We use boolean indexes to find all of the values that match what we want."
   ]
  },
  {
   "cell_type": "code",
   "execution_count": 1,
   "id": "d04632dc",
   "metadata": {},
   "outputs": [],
   "source": [
    "import numpy as np   # not critical, but might come in handy\n",
    "import pandas as pd  # uses the standard alias \"pd\"\n",
    "from pandas import Series, DataFrame  # this lets me use the names without pd. before them"
   ]
  },
  {
   "cell_type": "code",
   "execution_count": 3,
   "id": "08f6a4c3",
   "metadata": {},
   "outputs": [
    {
     "data": {
      "text/plain": [
       "0    10\n",
       "1    20\n",
       "2    30\n",
       "3    20\n",
       "4    30\n",
       "5    40\n",
       "6    20\n",
       "7    30\n",
       "8    40\n",
       "9    50\n",
       "dtype: int64"
      ]
     },
     "execution_count": 3,
     "metadata": {},
     "output_type": "execute_result"
    }
   ],
   "source": [
    "s = Series([10, 20, 30, 20, 30, 40, 20, 30, 40, 50]) # default, numeric index\n",
    "s"
   ]
  },
  {
   "cell_type": "code",
   "execution_count": 4,
   "id": "9ebb6ea4",
   "metadata": {},
   "outputs": [
    {
     "data": {
      "text/plain": [
       "29.0"
      ]
     },
     "execution_count": 4,
     "metadata": {},
     "output_type": "execute_result"
    }
   ],
   "source": [
    "s.mean()  # what is the mean of our series?"
   ]
  },
  {
   "cell_type": "code",
   "execution_count": 6,
   "id": "fe172448",
   "metadata": {},
   "outputs": [
    {
     "data": {
      "text/plain": [
       "29.0"
      ]
     },
     "execution_count": 6,
     "metadata": {},
     "output_type": "execute_result"
    }
   ],
   "source": [
    "s.sum() / s.count()"
   ]
  },
  {
   "cell_type": "code",
   "execution_count": 7,
   "id": "e14df1ac",
   "metadata": {},
   "outputs": [
    {
     "data": {
      "text/plain": [
       "30"
      ]
     },
     "execution_count": 7,
     "metadata": {},
     "output_type": "execute_result"
    }
   ],
   "source": [
    "# to retrieve an item, I can use either .loc or .iloc  (they'll be the same here)\n",
    "s.loc[4]"
   ]
  },
  {
   "cell_type": "code",
   "execution_count": 8,
   "id": "51adfc5e",
   "metadata": {},
   "outputs": [
    {
     "data": {
      "text/plain": [
       "40"
      ]
     },
     "execution_count": 8,
     "metadata": {},
     "output_type": "execute_result"
    }
   ],
   "source": [
    "s.iloc[8]"
   ]
  },
  {
   "cell_type": "code",
   "execution_count": 9,
   "id": "6e5c716f",
   "metadata": {},
   "outputs": [],
   "source": [
    "# If I want, I can define my own index on the series\n",
    "s.index = list('abcdefghij')  # 10 elements require 10 index items"
   ]
  },
  {
   "cell_type": "code",
   "execution_count": 10,
   "id": "fc515a72",
   "metadata": {},
   "outputs": [
    {
     "data": {
      "text/plain": [
       "a    10\n",
       "b    20\n",
       "c    30\n",
       "d    20\n",
       "e    30\n",
       "f    40\n",
       "g    20\n",
       "h    30\n",
       "i    40\n",
       "j    50\n",
       "dtype: int64"
      ]
     },
     "execution_count": 10,
     "metadata": {},
     "output_type": "execute_result"
    }
   ],
   "source": [
    "s"
   ]
  },
  {
   "cell_type": "code",
   "execution_count": 11,
   "id": "8ce9f930",
   "metadata": {},
   "outputs": [
    {
     "data": {
      "text/plain": [
       "30"
      ]
     },
     "execution_count": 11,
     "metadata": {},
     "output_type": "execute_result"
    }
   ],
   "source": [
    "s.loc['c']    # .loc uses the index"
   ]
  },
  {
   "cell_type": "code",
   "execution_count": 13,
   "id": "db228d30",
   "metadata": {},
   "outputs": [
    {
     "data": {
      "text/plain": [
       "20"
      ]
     },
     "execution_count": 13,
     "metadata": {},
     "output_type": "execute_result"
    }
   ],
   "source": [
    "s.iloc[6]      # .iloc uses the position"
   ]
  },
  {
   "cell_type": "code",
   "execution_count": 14,
   "id": "c257f8f2",
   "metadata": {},
   "outputs": [
    {
     "data": {
      "text/plain": [
       "a    10\n",
       "b    20\n",
       "c    30\n",
       "d    20\n",
       "e    30\n",
       "dtype: int64"
      ]
     },
     "execution_count": 14,
     "metadata": {},
     "output_type": "execute_result"
    }
   ],
   "source": [
    "s.head()   # show me the first 5 elements in s"
   ]
  },
  {
   "cell_type": "code",
   "execution_count": 15,
   "id": "bb0b87cb",
   "metadata": {},
   "outputs": [
    {
     "data": {
      "text/plain": [
       "f    40\n",
       "g    20\n",
       "h    30\n",
       "i    40\n",
       "j    50\n",
       "dtype: int64"
      ]
     },
     "execution_count": 15,
     "metadata": {},
     "output_type": "execute_result"
    }
   ],
   "source": [
    "s.tail()   # show me the final 5 elements in s"
   ]
  },
  {
   "cell_type": "code",
   "execution_count": 16,
   "id": "3dac3507",
   "metadata": {},
   "outputs": [
    {
     "data": {
      "text/plain": [
       "20    3\n",
       "30    3\n",
       "40    2\n",
       "10    1\n",
       "50    1\n",
       "dtype: int64"
      ]
     },
     "execution_count": 16,
     "metadata": {},
     "output_type": "execute_result"
    }
   ],
   "source": [
    "s.value_counts()  # how often is each value found in s?"
   ]
  },
  {
   "cell_type": "code",
   "execution_count": 17,
   "id": "4b485027",
   "metadata": {},
   "outputs": [
    {
     "data": {
      "text/plain": [
       "count    10.00000\n",
       "mean     29.00000\n",
       "std      11.97219\n",
       "min      10.00000\n",
       "25%      20.00000\n",
       "50%      30.00000\n",
       "75%      37.50000\n",
       "max      50.00000\n",
       "dtype: float64"
      ]
     },
     "execution_count": 17,
     "metadata": {},
     "output_type": "execute_result"
    }
   ],
   "source": [
    "s.describe()   # gives me the descriptive statistics for s"
   ]
  },
  {
   "cell_type": "markdown",
   "id": "24c65776",
   "metadata": {},
   "source": [
    "# Dtypes \n",
    "\n",
    "We see a Pandas series, and we think of it as a Python data structure. But really, we're seeing 1/2 of the actual data structure. Half of it exists in Python, and we use that half.  But the actual data is the other half, sort of like the submerged part of an iceberg, and it is implemented in the C language.  Why? Because C is super fast and efficient.\n",
    "\n",
    "So the data isn't being stored in Python at all!  We don't get to use our familiar Python data structures, such as `int` or `float`.\n",
    "\n",
    "Instead, we need to think like C programmers, at least a little bit.  There's no such thing as an \"int\" in C.  Rather, they have 8-bit ints, 16-bit ints, 32-bit ints, etc.  The more bits, the larger/smaller the ints are that we can handle.  But the more bits, the more memory each value takes up.\n",
    "\n",
    "In Pandas, we think about these as \"dtypes\"."
   ]
  },
  {
   "cell_type": "code",
   "execution_count": 18,
   "id": "56e38769",
   "metadata": {},
   "outputs": [],
   "source": [
    "s = Series([10, 20, 30, 40, 50])  # Pandas sees only integers, so it guesses what dtype we want"
   ]
  },
  {
   "cell_type": "code",
   "execution_count": 19,
   "id": "e4debcc1",
   "metadata": {},
   "outputs": [
    {
     "data": {
      "text/plain": [
       "0    10\n",
       "1    20\n",
       "2    30\n",
       "3    40\n",
       "4    50\n",
       "dtype: int64"
      ]
     },
     "execution_count": 19,
     "metadata": {},
     "output_type": "execute_result"
    }
   ],
   "source": [
    "s"
   ]
  },
  {
   "cell_type": "code",
   "execution_count": 20,
   "id": "62d05a8c",
   "metadata": {},
   "outputs": [
    {
     "data": {
      "text/plain": [
       "4294967296"
      ]
     },
     "execution_count": 20,
     "metadata": {},
     "output_type": "execute_result"
    }
   ],
   "source": [
    "# The highest number we can get to with 64-bit ints is 2**32  (because of negative + positive numbers)\n",
    "2**32"
   ]
  },
  {
   "cell_type": "markdown",
   "id": "a9d51dd5",
   "metadata": {},
   "source": [
    "# How to decide what dtype to use\n",
    "\n",
    "- How big/small will the numbers be that you'll be dealing with?\n",
    "- The bigger the dtype, the more numbers you can handle\n",
    "- But the bigger the dtype, the more memory it'll use\n",
    "\n",
    "If I have 1b integers in my series:\n",
    "- 64-bit integers will result in 64 GB of memory to store this series\n",
    "- 32-bit integers will need 32 GB\n",
    "- 8-bit integers will need only 8GB"
   ]
  },
  {
   "cell_type": "code",
   "execution_count": 21,
   "id": "df70636a",
   "metadata": {},
   "outputs": [],
   "source": [
    "# how can I specify the dtype, if I don't like what Pandas is choosing by default?\n",
    "\n",
    "s = Series([10, 20, 30, 40, 50], dtype=np.int32)  # notice: dtypes are from NumPy"
   ]
  },
  {
   "cell_type": "code",
   "execution_count": 22,
   "id": "922f2c8d",
   "metadata": {},
   "outputs": [
    {
     "data": {
      "text/plain": [
       "0    10\n",
       "1    20\n",
       "2    30\n",
       "3    40\n",
       "4    50\n",
       "dtype: int32"
      ]
     },
     "execution_count": 22,
     "metadata": {},
     "output_type": "execute_result"
    }
   ],
   "source": [
    "s"
   ]
  },
  {
   "cell_type": "code",
   "execution_count": 23,
   "id": "33b44f8e",
   "metadata": {},
   "outputs": [],
   "source": [
    "s = Series([10, 20, 30, 40, 50], dtype=np.int8) "
   ]
  },
  {
   "cell_type": "code",
   "execution_count": 24,
   "id": "72ee3040",
   "metadata": {},
   "outputs": [
    {
     "data": {
      "text/plain": [
       "0    10\n",
       "1    20\n",
       "2    30\n",
       "3    40\n",
       "4    50\n",
       "dtype: int8"
      ]
     },
     "execution_count": 24,
     "metadata": {},
     "output_type": "execute_result"
    }
   ],
   "source": [
    "# 8-bit integers\n",
    "\n",
    "s"
   ]
  },
  {
   "cell_type": "code",
   "execution_count": 25,
   "id": "884c32ff",
   "metadata": {},
   "outputs": [
    {
     "data": {
      "text/plain": [
       "0    100\n",
       "1    -56\n",
       "2     44\n",
       "3   -112\n",
       "4    -12\n",
       "dtype: int8"
      ]
     },
     "execution_count": 25,
     "metadata": {},
     "output_type": "execute_result"
    }
   ],
   "source": [
    "# what happens if I do this:\n",
    "\n",
    "s * 10"
   ]
  },
  {
   "cell_type": "code",
   "execution_count": 26,
   "id": "1a3dff50",
   "metadata": {},
   "outputs": [
    {
     "data": {
      "text/plain": [
       "0    127\n",
       "1     20\n",
       "2     30\n",
       "3     40\n",
       "4     50\n",
       "dtype: int8"
      ]
     },
     "execution_count": 26,
     "metadata": {},
     "output_type": "execute_result"
    }
   ],
   "source": [
    "s.loc[0] = 127\n",
    "s"
   ]
  },
  {
   "cell_type": "code",
   "execution_count": 27,
   "id": "9de08719",
   "metadata": {},
   "outputs": [
    {
     "data": {
      "text/plain": [
       "0   -128\n",
       "1     21\n",
       "2     31\n",
       "3     41\n",
       "4     51\n",
       "dtype: int8"
      ]
     },
     "execution_count": 27,
     "metadata": {},
     "output_type": "execute_result"
    }
   ],
   "source": [
    "s + 1"
   ]
  },
  {
   "cell_type": "markdown",
   "id": "7820e7db",
   "metadata": {},
   "source": [
    "# What dtypes are available?\n",
    "\n",
    "int, signed integers (both positive and negative)\n",
    "- `np.int8`  (or `np.dtype('int8')`)\n",
    "- `np.int16`\n",
    "- `np.int32`\n",
    "- `np.int64`\n",
    "\n",
    "uint, unsigned integers (only positive)\n",
    "- `np.uint8`\n",
    "- `np.uint16`\n",
    "- `np.uint32`\n",
    "- `np.uint64`\n",
    "\n",
    "Floating-point numbers\n",
    "- `np.float16`\n",
    "- `np.float32`\n",
    "- `np.float64`\n",
    "- `np.float128`"
   ]
  },
  {
   "cell_type": "code",
   "execution_count": 28,
   "id": "7dc5aded",
   "metadata": {},
   "outputs": [
    {
     "data": {
      "text/plain": [
       "dtype('int8')"
      ]
     },
     "execution_count": 28,
     "metadata": {},
     "output_type": "execute_result"
    }
   ],
   "source": [
    "# how can I find out the dtype of a series?  Just ask it:\n",
    "\n",
    "s.dtype"
   ]
  },
  {
   "cell_type": "code",
   "execution_count": 29,
   "id": "07839289",
   "metadata": {},
   "outputs": [
    {
     "data": {
      "text/plain": [
       "0    127\n",
       "1     20\n",
       "2     30\n",
       "3     40\n",
       "4     50\n",
       "dtype: int8"
      ]
     },
     "execution_count": 29,
     "metadata": {},
     "output_type": "execute_result"
    }
   ],
   "source": [
    "s"
   ]
  },
  {
   "cell_type": "code",
   "execution_count": 30,
   "id": "ea55b2ec",
   "metadata": {},
   "outputs": [
    {
     "ename": "AttributeError",
     "evalue": "can't set attribute 'dtype'",
     "output_type": "error",
     "traceback": [
      "\u001b[0;31m---------------------------------------------------------------------------\u001b[0m",
      "\u001b[0;31mAttributeError\u001b[0m                            Traceback (most recent call last)",
      "\u001b[0;32m/usr/local/lib/python3.10/site-packages/pandas/core/generic.py\u001b[0m in \u001b[0;36m__setattr__\u001b[0;34m(self, name, value)\u001b[0m\n\u001b[1;32m   5605\u001b[0m                 \u001b[0;32melse\u001b[0m\u001b[0;34m:\u001b[0m\u001b[0;34m\u001b[0m\u001b[0;34m\u001b[0m\u001b[0m\n\u001b[0;32m-> 5606\u001b[0;31m                     \u001b[0mobject\u001b[0m\u001b[0;34m.\u001b[0m\u001b[0m__setattr__\u001b[0m\u001b[0;34m(\u001b[0m\u001b[0mself\u001b[0m\u001b[0;34m,\u001b[0m \u001b[0mname\u001b[0m\u001b[0;34m,\u001b[0m \u001b[0mvalue\u001b[0m\u001b[0;34m)\u001b[0m\u001b[0;34m\u001b[0m\u001b[0;34m\u001b[0m\u001b[0m\n\u001b[0m\u001b[1;32m   5607\u001b[0m             \u001b[0;32mexcept\u001b[0m \u001b[0;34m(\u001b[0m\u001b[0mAttributeError\u001b[0m\u001b[0;34m,\u001b[0m \u001b[0mTypeError\u001b[0m\u001b[0;34m)\u001b[0m\u001b[0;34m:\u001b[0m\u001b[0;34m\u001b[0m\u001b[0;34m\u001b[0m\u001b[0m\n",
      "\u001b[0;31mAttributeError\u001b[0m: can't set attribute 'dtype'",
      "\nDuring handling of the above exception, another exception occurred:\n",
      "\u001b[0;31mAttributeError\u001b[0m                            Traceback (most recent call last)",
      "\u001b[0;32m/var/folders/rr/0mnyyv811fs5vyp22gf4fxk00000gn/T/ipykernel_10226/959266666.py\u001b[0m in \u001b[0;36m<module>\u001b[0;34m\u001b[0m\n\u001b[1;32m      3\u001b[0m \u001b[0;34m\u001b[0m\u001b[0m\n\u001b[1;32m      4\u001b[0m \u001b[0;31m# option 1: assign to the dtype\u001b[0m\u001b[0;34m\u001b[0m\u001b[0;34m\u001b[0m\u001b[0m\n\u001b[0;32m----> 5\u001b[0;31m \u001b[0ms\u001b[0m\u001b[0;34m.\u001b[0m\u001b[0mdtype\u001b[0m \u001b[0;34m=\u001b[0m \u001b[0mnp\u001b[0m\u001b[0;34m.\u001b[0m\u001b[0mint16\u001b[0m\u001b[0;34m\u001b[0m\u001b[0;34m\u001b[0m\u001b[0m\n\u001b[0m",
      "\u001b[0;32m/usr/local/lib/python3.10/site-packages/pandas/core/generic.py\u001b[0m in \u001b[0;36m__setattr__\u001b[0;34m(self, name, value)\u001b[0m\n\u001b[1;32m   5614\u001b[0m                         \u001b[0mstacklevel\u001b[0m\u001b[0;34m=\u001b[0m\u001b[0mfind_stack_level\u001b[0m\u001b[0;34m(\u001b[0m\u001b[0;34m)\u001b[0m\u001b[0;34m,\u001b[0m\u001b[0;34m\u001b[0m\u001b[0;34m\u001b[0m\u001b[0m\n\u001b[1;32m   5615\u001b[0m                     )\n\u001b[0;32m-> 5616\u001b[0;31m                 \u001b[0mobject\u001b[0m\u001b[0;34m.\u001b[0m\u001b[0m__setattr__\u001b[0m\u001b[0;34m(\u001b[0m\u001b[0mself\u001b[0m\u001b[0;34m,\u001b[0m \u001b[0mname\u001b[0m\u001b[0;34m,\u001b[0m \u001b[0mvalue\u001b[0m\u001b[0;34m)\u001b[0m\u001b[0;34m\u001b[0m\u001b[0;34m\u001b[0m\u001b[0m\n\u001b[0m\u001b[1;32m   5617\u001b[0m \u001b[0;34m\u001b[0m\u001b[0m\n\u001b[1;32m   5618\u001b[0m     \u001b[0;34m@\u001b[0m\u001b[0mfinal\u001b[0m\u001b[0;34m\u001b[0m\u001b[0;34m\u001b[0m\u001b[0m\n",
      "\u001b[0;31mAttributeError\u001b[0m: can't set attribute 'dtype'"
     ]
    }
   ],
   "source": [
    "# I now realize that I'm going to need a bigger dtype for my numbers in s.\n",
    "# what can I do?\n",
    "\n",
    "# option 1: assign to the dtype -- not possible in Pandas!\n",
    "s.dtype = np.int16"
   ]
  },
  {
   "cell_type": "code",
   "execution_count": 32,
   "id": "03bcf450",
   "metadata": {},
   "outputs": [
    {
     "data": {
      "text/plain": [
       "0    127\n",
       "1     20\n",
       "2     30\n",
       "3     40\n",
       "4     50\n",
       "dtype: int16"
      ]
     },
     "execution_count": 32,
     "metadata": {},
     "output_type": "execute_result"
    }
   ],
   "source": [
    "# option 2: Create a new series, based on the existing one, with a new dtype\n",
    "# the way we do this is with the \"astype\" method\n",
    "\n",
    "# just run \"astype\" on a series, passing as an argument the dtype you want\n",
    "# this returns a new series -- it doesn't change s!\n",
    "s.astype(np.int16)"
   ]
  },
  {
   "cell_type": "code",
   "execution_count": 33,
   "id": "b2506173",
   "metadata": {},
   "outputs": [],
   "source": [
    "# this is how we really change the dtype\n",
    "s = s.astype(np.int16)"
   ]
  },
  {
   "cell_type": "code",
   "execution_count": 34,
   "id": "6d09326f",
   "metadata": {},
   "outputs": [
    {
     "data": {
      "text/plain": [
       "0    127\n",
       "1     20\n",
       "2     30\n",
       "3     40\n",
       "4     50\n",
       "dtype: int16"
      ]
     },
     "execution_count": 34,
     "metadata": {},
     "output_type": "execute_result"
    }
   ],
   "source": [
    "s"
   ]
  },
  {
   "cell_type": "code",
   "execution_count": 36,
   "id": "cfb38662",
   "metadata": {},
   "outputs": [
    {
     "data": {
      "text/plain": [
       "0    10.0\n",
       "1    20.0\n",
       "2    30.5\n",
       "3    40.0\n",
       "4    50.8\n",
       "dtype: float64"
      ]
     },
     "execution_count": 36,
     "metadata": {},
     "output_type": "execute_result"
    }
   ],
   "source": [
    "# Pandas automatically detects that it needs to use floating-point numbers\n",
    "# because some of the input list's elements are floats\n",
    "\n",
    "# So it chooses float64 -- not a bad choice!\n",
    "s = Series([10, 20, 30.5, 40, 50.8])\n",
    "s"
   ]
  },
  {
   "cell_type": "code",
   "execution_count": 38,
   "id": "e0bde3e7",
   "metadata": {},
   "outputs": [
    {
     "data": {
      "text/plain": [
       "0    10\n",
       "1    20\n",
       "2    30\n",
       "3    40\n",
       "4    50\n",
       "dtype: int64"
      ]
     },
     "execution_count": 38,
     "metadata": {},
     "output_type": "execute_result"
    }
   ],
   "source": [
    "# I want to remove the floating-point parts from s\n",
    "# this basically runs \"int\" on every element\n",
    "s.astype(np.int64)"
   ]
  },
  {
   "cell_type": "markdown",
   "id": "d0aa9a91",
   "metadata": {},
   "source": [
    "# What happens if I create a series of strings?\n",
    "\n"
   ]
  },
  {
   "cell_type": "code",
   "execution_count": 39,
   "id": "7f3d4b2b",
   "metadata": {},
   "outputs": [
    {
     "data": {
      "text/plain": [
       "0       this\n",
       "1         is\n",
       "2        the\n",
       "3       most\n",
       "4    amazing\n",
       "5     course\n",
       "6      ever!\n",
       "dtype: object"
      ]
     },
     "execution_count": 39,
     "metadata": {},
     "output_type": "execute_result"
    }
   ],
   "source": [
    "# this created a series of *strings*\n",
    "# the dtype here is ... object -- meaning, Python objects, handled by Python, not NumPy\n",
    "\n",
    "s = Series('this is the most amazing course ever!'.split())\n",
    "s"
   ]
  },
  {
   "cell_type": "code",
   "execution_count": 40,
   "id": "b8582c75",
   "metadata": {},
   "outputs": [
    {
     "data": {
      "text/plain": [
       "0    10\n",
       "1    20\n",
       "2    30\n",
       "dtype: object"
      ]
     },
     "execution_count": 40,
     "metadata": {},
     "output_type": "execute_result"
    }
   ],
   "source": [
    "s = Series('10 20 30'.split())\n",
    "s"
   ]
  },
  {
   "cell_type": "code",
   "execution_count": 41,
   "id": "54b4b4b7",
   "metadata": {},
   "outputs": [
    {
     "data": {
      "text/plain": [
       "0    1010\n",
       "1    2020\n",
       "2    3030\n",
       "dtype: object"
      ]
     },
     "execution_count": 41,
     "metadata": {},
     "output_type": "execute_result"
    }
   ],
   "source": [
    "s + s   # what will I get back?"
   ]
  },
  {
   "cell_type": "code",
   "execution_count": 42,
   "id": "57a74fcd",
   "metadata": {},
   "outputs": [
    {
     "data": {
      "text/plain": [
       "0    10\n",
       "1    20\n",
       "2    30\n",
       "dtype: int8"
      ]
     },
     "execution_count": 42,
     "metadata": {},
     "output_type": "execute_result"
    }
   ],
   "source": [
    "# get integers from our strings, using astype\n",
    "\n",
    "s.astype(np.int8)"
   ]
  },
  {
   "cell_type": "code",
   "execution_count": 45,
   "id": "85546c2e",
   "metadata": {},
   "outputs": [
    {
     "data": {
      "text/plain": [
       "0    10\n",
       "1    20\n",
       "2    30\n",
       "dtype: object"
      ]
     },
     "execution_count": 45,
     "metadata": {},
     "output_type": "execute_result"
    }
   ],
   "source": [
    "# to use astype with object, use \"object\" not \"np.object\"\n",
    "s.astype(object)"
   ]
  },
  {
   "cell_type": "markdown",
   "id": "f0483206",
   "metadata": {},
   "source": [
    "# Exercise: Calcuating from text input\n",
    "\n",
    "1. Define a Python string containing integers, separated by spaces.\n",
    "2. Define a Pandas series whose elements are strings, based on that string.\n",
    "3. Calculate the mean of the numbers in the series."
   ]
  },
  {
   "cell_type": "code",
   "execution_count": 46,
   "id": "45c261b0",
   "metadata": {},
   "outputs": [
    {
     "data": {
      "text/plain": [
       "0    10\n",
       "1    20\n",
       "2    30\n",
       "3    20\n",
       "4    30\n",
       "5    40\n",
       "6    50\n",
       "7    60\n",
       "dtype: object"
      ]
     },
     "execution_count": 46,
     "metadata": {},
     "output_type": "execute_result"
    }
   ],
   "source": [
    "text = '10 20 30 20 30 40 50 60'\n",
    "\n",
    "s = Series(text.split())\n",
    "s"
   ]
  },
  {
   "cell_type": "code",
   "execution_count": 53,
   "id": "6c3e0d0f",
   "metadata": {
    "scrolled": true
   },
   "outputs": [
    {
     "data": {
      "text/plain": [
       "0    10\n",
       "1    20\n",
       "2    30\n",
       "3    20\n",
       "4    30\n",
       "5    40\n",
       "6    50\n",
       "7    60\n",
       "dtype: object"
      ]
     },
     "execution_count": 53,
     "metadata": {},
     "output_type": "execute_result"
    }
   ],
   "source": [
    "# option 1: tell it the dtype at creation time\n",
    "s = Series(text.split())\n",
    "s"
   ]
  },
  {
   "cell_type": "code",
   "execution_count": 57,
   "id": "66269338",
   "metadata": {},
   "outputs": [
    {
     "data": {
      "text/plain": [
       "0    10\n",
       "1    20\n",
       "2    30\n",
       "3    20\n",
       "4    30\n",
       "5    40\n",
       "6    50\n",
       "7    60\n",
       "dtype: int32"
      ]
     },
     "execution_count": 57,
     "metadata": {},
     "output_type": "execute_result"
    }
   ],
   "source": [
    "# option 2 (and better?) is to use astype, to convert from one dtype to another\n",
    "s = s.astype(np.int32)\n",
    "s"
   ]
  },
  {
   "cell_type": "code",
   "execution_count": 58,
   "id": "3238af85",
   "metadata": {},
   "outputs": [
    {
     "data": {
      "text/plain": [
       "0    10.0\n",
       "1    20.0\n",
       "2    30.5\n",
       "3    40.0\n",
       "4    50.0\n",
       "dtype: float64"
      ]
     },
     "execution_count": 58,
     "metadata": {},
     "output_type": "execute_result"
    }
   ],
   "source": [
    "s = Series([10, 20, 30.5, 40, 50])    # because there is a single float value, the dtype will be np.float64\n",
    "s"
   ]
  },
  {
   "cell_type": "code",
   "execution_count": 62,
   "id": "58078c5c",
   "metadata": {},
   "outputs": [
    {
     "data": {
      "text/plain": [
       "dtype('float64')"
      ]
     },
     "execution_count": 62,
     "metadata": {},
     "output_type": "execute_result"
    }
   ],
   "source": [
    "# what if I start with an int dtype?\n",
    "\n",
    "s = Series([10, 20, 30, 40 ,50])  # int64 dtype, because that's the default\n",
    "s.loc[3] = 40.5                   # set an element to be a float\n",
    "\n",
    "# what's the dtype now?  float64 -- pandas changes the dtype, to accommodate what we want to add\n",
    "s.dtype\n"
   ]
  },
  {
   "cell_type": "code",
   "execution_count": 63,
   "id": "447570ac",
   "metadata": {},
   "outputs": [
    {
     "data": {
      "text/plain": [
       "0    10.0\n",
       "1    20.0\n",
       "2    30.0\n",
       "3    40.5\n",
       "4    50.0\n",
       "dtype: float64"
      ]
     },
     "execution_count": 63,
     "metadata": {},
     "output_type": "execute_result"
    }
   ],
   "source": [
    "s"
   ]
  },
  {
   "cell_type": "code",
   "execution_count": 64,
   "id": "54da0fd6",
   "metadata": {},
   "outputs": [],
   "source": [
    "s.loc[1] = 'hello'  # what will happen to the dtype now?\n"
   ]
  },
  {
   "cell_type": "code",
   "execution_count": 65,
   "id": "f0a4499b",
   "metadata": {},
   "outputs": [
    {
     "data": {
      "text/plain": [
       "0     10.0\n",
       "1    hello\n",
       "2     30.0\n",
       "3     40.5\n",
       "4     50.0\n",
       "dtype: object"
      ]
     },
     "execution_count": 65,
     "metadata": {},
     "output_type": "execute_result"
    }
   ],
   "source": [
    "s"
   ]
  },
  {
   "cell_type": "markdown",
   "id": "23fad054",
   "metadata": {},
   "source": [
    "# NaN\n",
    "\n",
    "`NaN` is a float, and is represents the lack of a number, or a number that you can (will) want to use."
   ]
  },
  {
   "cell_type": "code",
   "execution_count": 70,
   "id": "2d961312",
   "metadata": {},
   "outputs": [
    {
     "data": {
      "text/plain": [
       "72.4"
      ]
     },
     "execution_count": 70,
     "metadata": {},
     "output_type": "execute_result"
    }
   ],
   "source": [
    "# if we want to take the mean of five test scores, or four if they were absent for one test,\n",
    "# then how do we record the fifth score if they were absent?\n",
    "\n",
    "scores = Series([95, 89, 92, 86, 0])     # 0 is a bad idea\n",
    "scores.mean()"
   ]
  },
  {
   "cell_type": "code",
   "execution_count": 71,
   "id": "ed88040e",
   "metadata": {},
   "outputs": [],
   "source": [
    "# a better idea is to use np.nan (aka np.NaN)\n",
    "# this value means \"not a number\" -- it cannot be calculated with\n",
    "\n",
    "scores = Series([95, 89, 92, 86, np.nan]) "
   ]
  },
  {
   "cell_type": "code",
   "execution_count": 72,
   "id": "eabe8486",
   "metadata": {},
   "outputs": [
    {
     "data": {
      "text/plain": [
       "0    95.0\n",
       "1    89.0\n",
       "2    92.0\n",
       "3    86.0\n",
       "4     NaN\n",
       "dtype: float64"
      ]
     },
     "execution_count": 72,
     "metadata": {},
     "output_type": "execute_result"
    }
   ],
   "source": [
    "scores"
   ]
  },
  {
   "cell_type": "code",
   "execution_count": 74,
   "id": "f5771c4e",
   "metadata": {},
   "outputs": [
    {
     "data": {
      "text/plain": [
       "90.5"
      ]
     },
     "execution_count": 74,
     "metadata": {},
     "output_type": "execute_result"
    }
   ],
   "source": [
    "scores.mean()  # will this work?  Yes -- by default, most methods in Pandas ignore NaN values"
   ]
  },
  {
   "cell_type": "code",
   "execution_count": 75,
   "id": "a9b3a7a4",
   "metadata": {},
   "outputs": [
    {
     "name": "stdout",
     "output_type": "stream",
     "text": [
      "Help on method mean in module pandas.core.generic:\n",
      "\n",
      "mean(axis: 'int | None | lib.NoDefault' = <no_default>, skipna=True, level=None, numeric_only=None, **kwargs) method of pandas.core.series.Series instance\n",
      "    Return the mean of the values over the requested axis.\n",
      "    \n",
      "    Parameters\n",
      "    ----------\n",
      "    axis : {index (0)}\n",
      "        Axis for the function to be applied on.\n",
      "    skipna : bool, default True\n",
      "        Exclude NA/null values when computing the result.\n",
      "    level : int or level name, default None\n",
      "        If the axis is a MultiIndex (hierarchical), count along a\n",
      "        particular level, collapsing into a scalar.\n",
      "    numeric_only : bool, default None\n",
      "        Include only float, int, boolean columns. If None, will attempt to use\n",
      "        everything, then use only numeric data. Not implemented for Series.\n",
      "    **kwargs\n",
      "        Additional keyword arguments to be passed to the function.\n",
      "    \n",
      "    Returns\n",
      "    -------\n",
      "    scalar or Series (if level specified)\n",
      "\n"
     ]
    }
   ],
   "source": [
    "# let's ask the mean method what it does\n",
    "\n",
    "help(scores.mean)    # notice -- I'm not running the method, so no () after its name"
   ]
  },
  {
   "cell_type": "code",
   "execution_count": 76,
   "id": "efe01113",
   "metadata": {},
   "outputs": [
    {
     "data": {
      "text/plain": [
       "nan"
      ]
     },
     "execution_count": 76,
     "metadata": {},
     "output_type": "execute_result"
    }
   ],
   "source": [
    "# what if I want to be very strict, and keep all NaN values when I'm calculating the mean?\n",
    "scores.mean(skipna=False)"
   ]
  },
  {
   "cell_type": "markdown",
   "id": "5ff0415b",
   "metadata": {},
   "source": [
    "# No matter what you do, you have to deal with `NaN`\n",
    "\n",
    "Nearly any data set you have will include `NaN`:\n",
    "- Faulty measurements\n",
    "- Lost records\n",
    "- People didn't respond\n",
    "- People didn't respond on time\n",
    "- Things are being processed\n",
    "- The data set was changed, and earlier records lack certain values\n",
    "\n",
    "Some ways to deal with `NaN`:\n",
    "1. Ignore it. If you invoke many methods (e.g., `mean`), then it'll just ignore `NaN`.\n",
    "2. Remove it.  The `dropna` method returns a new series, just like the original, but without any `NaN` values.\n",
    "3. Replace it. The `fillna` method returns a new series, just like the original, but with `NaN` values replaced by something else.  It's often a good idea to use the mean here, but you don't have to."
   ]
  },
  {
   "cell_type": "code",
   "execution_count": 77,
   "id": "0b713333",
   "metadata": {},
   "outputs": [],
   "source": [
    "s = Series([10, 20, 30, 40, 50, 60, 70, 80, 90, 100])\n",
    "\n",
    "s.loc[[2, 5, 7, 9]] = np.nan"
   ]
  },
  {
   "cell_type": "code",
   "execution_count": 78,
   "id": "fb959798",
   "metadata": {},
   "outputs": [
    {
     "data": {
      "text/plain": [
       "0    10.0\n",
       "1    20.0\n",
       "2     NaN\n",
       "3    40.0\n",
       "4    50.0\n",
       "5     NaN\n",
       "6    70.0\n",
       "7     NaN\n",
       "8    90.0\n",
       "9     NaN\n",
       "dtype: float64"
      ]
     },
     "execution_count": 78,
     "metadata": {},
     "output_type": "execute_result"
    }
   ],
   "source": [
    "s"
   ]
  },
  {
   "cell_type": "code",
   "execution_count": 79,
   "id": "05bc2c04",
   "metadata": {},
   "outputs": [
    {
     "data": {
      "text/plain": [
       "6"
      ]
     },
     "execution_count": 79,
     "metadata": {},
     "output_type": "execute_result"
    }
   ],
   "source": [
    "s.count()  # how many non-NaN values do we have?"
   ]
  },
  {
   "cell_type": "code",
   "execution_count": 80,
   "id": "e641853a",
   "metadata": {},
   "outputs": [
    {
     "data": {
      "text/plain": [
       "count     6.000000\n",
       "mean     46.666667\n",
       "std      30.110906\n",
       "min      10.000000\n",
       "25%      25.000000\n",
       "50%      45.000000\n",
       "75%      65.000000\n",
       "max      90.000000\n",
       "dtype: float64"
      ]
     },
     "execution_count": 80,
     "metadata": {},
     "output_type": "execute_result"
    }
   ],
   "source": [
    "s.describe()"
   ]
  },
  {
   "cell_type": "code",
   "execution_count": 82,
   "id": "9667ffb3",
   "metadata": {},
   "outputs": [
    {
     "data": {
      "text/plain": [
       "0    10.0\n",
       "1    20.0\n",
       "3    40.0\n",
       "4    50.0\n",
       "6    70.0\n",
       "8    90.0\n",
       "dtype: float64"
      ]
     },
     "execution_count": 82,
     "metadata": {},
     "output_type": "execute_result"
    }
   ],
   "source": [
    "# to remove it, we can use s.dropna\n",
    "\n",
    "s.dropna()  # returns a new series, with the index of s, and without s's NaN values"
   ]
  },
  {
   "cell_type": "code",
   "execution_count": 83,
   "id": "b161d220",
   "metadata": {},
   "outputs": [
    {
     "data": {
      "text/plain": [
       "0    10.0\n",
       "1    20.0\n",
       "2     3.0\n",
       "3    40.0\n",
       "4    50.0\n",
       "5     3.0\n",
       "6    70.0\n",
       "7     3.0\n",
       "8    90.0\n",
       "9     3.0\n",
       "dtype: float64"
      ]
     },
     "execution_count": 83,
     "metadata": {},
     "output_type": "execute_result"
    }
   ],
   "source": [
    "# to change it, we can use s.fillna\n",
    "\n",
    "s.fillna(3)"
   ]
  },
  {
   "cell_type": "code",
   "execution_count": 84,
   "id": "32f3bbe5",
   "metadata": {
    "scrolled": true
   },
   "outputs": [
    {
     "data": {
      "text/plain": [
       "0    10.000000\n",
       "1    20.000000\n",
       "2    46.666667\n",
       "3    40.000000\n",
       "4    50.000000\n",
       "5    46.666667\n",
       "6    70.000000\n",
       "7    46.666667\n",
       "8    90.000000\n",
       "9    46.666667\n",
       "dtype: float64"
      ]
     },
     "execution_count": 84,
     "metadata": {},
     "output_type": "execute_result"
    }
   ],
   "source": [
    "# very common to use the mean for filling -- it's often less wrong than other values would be\n",
    "s.fillna(s.mean())"
   ]
  },
  {
   "cell_type": "code",
   "execution_count": 85,
   "id": "e8aa46e8",
   "metadata": {},
   "outputs": [
    {
     "data": {
      "text/plain": [
       "0     10.0\n",
       "1     20.0\n",
       "2    999.0\n",
       "3     40.0\n",
       "4     50.0\n",
       "5    999.0\n",
       "6     70.0\n",
       "7    999.0\n",
       "8     90.0\n",
       "9    999.0\n",
       "dtype: float64"
      ]
     },
     "execution_count": 85,
     "metadata": {},
     "output_type": "execute_result"
    }
   ],
   "source": [
    "# if I run s.fillna(n), then we get back a new series, just like s,\n",
    "# but in which all values of NaN have been replaced by n\n",
    "\n",
    "s.fillna(999)"
   ]
  },
  {
   "cell_type": "markdown",
   "id": "15092464",
   "metadata": {},
   "source": [
    "# Exercise: Descriptive statistics with missing data\n",
    "\n",
    "1. Create a series with 10 elements, whose values are the high temperatures forecast for the next 10 days where you live.\n",
    "2. Assign `NaN` to several of these elements.\n",
    "3. Replace `NaN` with the mean of the remaining elements.\n",
    "4. After you replace `NaN` with the mean, has the mean shifted? "
   ]
  },
  {
   "cell_type": "code",
   "execution_count": 86,
   "id": "95d17c5f",
   "metadata": {},
   "outputs": [
    {
     "data": {
      "text/plain": [
       "0     32\n",
       "1     33\n",
       "2     32\n",
       "3     32\n",
       "4     32\n",
       "5     32\n",
       "6     32\n",
       "7     33\n",
       "8     34\n",
       "9     35\n",
       "10    35\n",
       "11    36\n",
       "12    35\n",
       "13    35\n",
       "dtype: int64"
      ]
     },
     "execution_count": 86,
     "metadata": {},
     "output_type": "execute_result"
    }
   ],
   "source": [
    "s = Series([32, 33, 32, 32, 32, 32, 32, 33, 34, 35, 35, 36, 35, 35])\n",
    "s"
   ]
  },
  {
   "cell_type": "code",
   "execution_count": 87,
   "id": "dd89bbd6",
   "metadata": {},
   "outputs": [
    {
     "data": {
      "text/plain": [
       "0     32.0\n",
       "1     33.0\n",
       "2     32.0\n",
       "3      NaN\n",
       "4     32.0\n",
       "5     32.0\n",
       "6     32.0\n",
       "7      NaN\n",
       "8      NaN\n",
       "9     35.0\n",
       "10    35.0\n",
       "11    36.0\n",
       "12     NaN\n",
       "13    35.0\n",
       "dtype: float64"
      ]
     },
     "execution_count": 87,
     "metadata": {},
     "output_type": "execute_result"
    }
   ],
   "source": [
    "# fancy indexing to set NaN on a bunch of elements\n",
    "s.loc[[3, 7, 8, 12]] = np.nan\n",
    "s"
   ]
  },
  {
   "cell_type": "code",
   "execution_count": 89,
   "id": "1960bb7d",
   "metadata": {},
   "outputs": [
    {
     "data": {
      "text/plain": [
       "33.4"
      ]
     },
     "execution_count": 89,
     "metadata": {},
     "output_type": "execute_result"
    }
   ],
   "source": [
    "s.mean()   # mean of the non-NaN elements"
   ]
  },
  {
   "cell_type": "code",
   "execution_count": 90,
   "id": "39e3c4fe",
   "metadata": {},
   "outputs": [
    {
     "data": {
      "text/plain": [
       "0     32.0\n",
       "1     33.0\n",
       "2     32.0\n",
       "3     33.4\n",
       "4     32.0\n",
       "5     32.0\n",
       "6     32.0\n",
       "7     33.4\n",
       "8     33.4\n",
       "9     35.0\n",
       "10    35.0\n",
       "11    36.0\n",
       "12    33.4\n",
       "13    35.0\n",
       "dtype: float64"
      ]
     },
     "execution_count": 90,
     "metadata": {},
     "output_type": "execute_result"
    }
   ],
   "source": [
    "s.fillna(s.mean())   # replace the NaN values with the mean "
   ]
  },
  {
   "cell_type": "code",
   "execution_count": 91,
   "id": "58f6f4f0",
   "metadata": {},
   "outputs": [],
   "source": [
    "s = s.fillna(s.mean())   # replace the s (with NaN values) with a new s (without NaN values)"
   ]
  },
  {
   "cell_type": "code",
   "execution_count": 93,
   "id": "cd2fb3c9",
   "metadata": {},
   "outputs": [
    {
     "data": {
      "text/plain": [
       "33.4"
      ]
     },
     "execution_count": 93,
     "metadata": {},
     "output_type": "execute_result"
    }
   ],
   "source": [
    "s.mean()"
   ]
  },
  {
   "cell_type": "markdown",
   "id": "57bd47da",
   "metadata": {},
   "source": [
    "# Next up:\n",
    "\n",
    "- Data frames!\n",
    "- Adding and removing data in our data frames"
   ]
  },
  {
   "cell_type": "markdown",
   "id": "57da16fa",
   "metadata": {},
   "source": [
    "# Data frames\n",
    "\n",
    "Data frames are 2-dimensional\n",
    "\n",
    "- They have rows, with each row labeled -- with an index, the same index we have used for our series to date\n",
    "- They have columns, with each column labeled -- with the same kind of index object, these are known as the \"columns.\"\n",
    "\n",
    "Each column in a data frame is a series object.  Meaning: Each column can have its own distinct dtype."
   ]
  },
  {
   "cell_type": "code",
   "execution_count": 94,
   "id": "466bba2e",
   "metadata": {},
   "outputs": [
    {
     "data": {
      "text/html": [
       "<div>\n",
       "<style scoped>\n",
       "    .dataframe tbody tr th:only-of-type {\n",
       "        vertical-align: middle;\n",
       "    }\n",
       "\n",
       "    .dataframe tbody tr th {\n",
       "        vertical-align: top;\n",
       "    }\n",
       "\n",
       "    .dataframe thead th {\n",
       "        text-align: right;\n",
       "    }\n",
       "</style>\n",
       "<table border=\"1\" class=\"dataframe\">\n",
       "  <thead>\n",
       "    <tr style=\"text-align: right;\">\n",
       "      <th></th>\n",
       "      <th>0</th>\n",
       "      <th>1</th>\n",
       "      <th>2</th>\n",
       "      <th>3</th>\n",
       "    </tr>\n",
       "  </thead>\n",
       "  <tbody>\n",
       "    <tr>\n",
       "      <th>0</th>\n",
       "      <td>10</td>\n",
       "      <td>20</td>\n",
       "      <td>30</td>\n",
       "      <td>40</td>\n",
       "    </tr>\n",
       "    <tr>\n",
       "      <th>1</th>\n",
       "      <td>50</td>\n",
       "      <td>60</td>\n",
       "      <td>70</td>\n",
       "      <td>80</td>\n",
       "    </tr>\n",
       "    <tr>\n",
       "      <th>2</th>\n",
       "      <td>90</td>\n",
       "      <td>100</td>\n",
       "      <td>110</td>\n",
       "      <td>120</td>\n",
       "    </tr>\n",
       "  </tbody>\n",
       "</table>\n",
       "</div>"
      ],
      "text/plain": [
       "    0    1    2    3\n",
       "0  10   20   30   40\n",
       "1  50   60   70   80\n",
       "2  90  100  110  120"
      ]
     },
     "execution_count": 94,
     "metadata": {},
     "output_type": "execute_result"
    }
   ],
   "source": [
    "# let's create a simple data frame, using a list of lists\n",
    "\n",
    "df = DataFrame([[10, 20, 30, 40],\n",
    "                [50, 60, 70, 80],\n",
    "                [90, 100, 110, 120]])\n",
    "df"
   ]
  },
  {
   "cell_type": "code",
   "execution_count": 98,
   "id": "2af6b69e",
   "metadata": {},
   "outputs": [
    {
     "data": {
      "text/html": [
       "<div>\n",
       "<style scoped>\n",
       "    .dataframe tbody tr th:only-of-type {\n",
       "        vertical-align: middle;\n",
       "    }\n",
       "\n",
       "    .dataframe tbody tr th {\n",
       "        vertical-align: top;\n",
       "    }\n",
       "\n",
       "    .dataframe thead th {\n",
       "        text-align: right;\n",
       "    }\n",
       "</style>\n",
       "<table border=\"1\" class=\"dataframe\">\n",
       "  <thead>\n",
       "    <tr style=\"text-align: right;\">\n",
       "      <th></th>\n",
       "      <th>a</th>\n",
       "      <th>b</th>\n",
       "      <th>c</th>\n",
       "      <th>d</th>\n",
       "    </tr>\n",
       "  </thead>\n",
       "  <tbody>\n",
       "    <tr>\n",
       "      <th>x</th>\n",
       "      <td>10</td>\n",
       "      <td>20</td>\n",
       "      <td>30</td>\n",
       "      <td>40</td>\n",
       "    </tr>\n",
       "    <tr>\n",
       "      <th>y</th>\n",
       "      <td>50</td>\n",
       "      <td>60</td>\n",
       "      <td>70</td>\n",
       "      <td>80</td>\n",
       "    </tr>\n",
       "    <tr>\n",
       "      <th>z</th>\n",
       "      <td>90</td>\n",
       "      <td>100</td>\n",
       "      <td>110</td>\n",
       "      <td>120</td>\n",
       "    </tr>\n",
       "  </tbody>\n",
       "</table>\n",
       "</div>"
      ],
      "text/plain": [
       "    a    b    c    d\n",
       "x  10   20   30   40\n",
       "y  50   60   70   80\n",
       "z  90  100  110  120"
      ]
     },
     "execution_count": 98,
     "metadata": {},
     "output_type": "execute_result"
    }
   ],
   "source": [
    "# let's create our data frame again, labeling the rows and the columns\n",
    "\n",
    "# here, we'll use a list of lists, with each inner list representing\n",
    "# one row in the data frame\n",
    "\n",
    "df = DataFrame([[10, 20, 30, 40],\n",
    "                [50, 60, 70, 80],\n",
    "                [90, 100, 110, 120]],\n",
    "              index=list('xyz'),\n",
    "              columns=list('abcd'))\n",
    "df"
   ]
  },
  {
   "cell_type": "code",
   "execution_count": 99,
   "id": "03eef878",
   "metadata": {},
   "outputs": [
    {
     "data": {
      "text/plain": [
       "Index(['x', 'y', 'z'], dtype='object')"
      ]
     },
     "execution_count": 99,
     "metadata": {},
     "output_type": "execute_result"
    }
   ],
   "source": [
    "# get the index from df\n",
    "df.index"
   ]
  },
  {
   "cell_type": "code",
   "execution_count": 100,
   "id": "cb95ed5f",
   "metadata": {},
   "outputs": [
    {
     "data": {
      "text/plain": [
       "Index(['a', 'b', 'c', 'd'], dtype='object')"
      ]
     },
     "execution_count": 100,
     "metadata": {},
     "output_type": "execute_result"
    }
   ],
   "source": [
    "# get the columns from df\n",
    "df.columns"
   ]
  },
  {
   "cell_type": "code",
   "execution_count": 101,
   "id": "495d2b47",
   "metadata": {},
   "outputs": [
    {
     "data": {
      "text/plain": [
       "x    10\n",
       "y    50\n",
       "z    90\n",
       "Name: a, dtype: int64"
      ]
     },
     "execution_count": 101,
     "metadata": {},
     "output_type": "execute_result"
    }
   ],
   "source": [
    "# to retrieve a column, use [] and the column name\n",
    "\n",
    "df['a']   # get column a -- we get a series, whose index is df's index"
   ]
  },
  {
   "cell_type": "code",
   "execution_count": 102,
   "id": "98506783",
   "metadata": {},
   "outputs": [
    {
     "data": {
      "text/plain": [
       "x     30\n",
       "y     70\n",
       "z    110\n",
       "Name: c, dtype: int64"
      ]
     },
     "execution_count": 102,
     "metadata": {},
     "output_type": "execute_result"
    }
   ],
   "source": [
    "df['c']  # get column c -- we get a series"
   ]
  },
  {
   "cell_type": "code",
   "execution_count": 104,
   "id": "521ca8a3",
   "metadata": {},
   "outputs": [
    {
     "data": {
      "text/html": [
       "<div>\n",
       "<style scoped>\n",
       "    .dataframe tbody tr th:only-of-type {\n",
       "        vertical-align: middle;\n",
       "    }\n",
       "\n",
       "    .dataframe tbody tr th {\n",
       "        vertical-align: top;\n",
       "    }\n",
       "\n",
       "    .dataframe thead th {\n",
       "        text-align: right;\n",
       "    }\n",
       "</style>\n",
       "<table border=\"1\" class=\"dataframe\">\n",
       "  <thead>\n",
       "    <tr style=\"text-align: right;\">\n",
       "      <th></th>\n",
       "      <th>a</th>\n",
       "      <th>c</th>\n",
       "    </tr>\n",
       "  </thead>\n",
       "  <tbody>\n",
       "    <tr>\n",
       "      <th>x</th>\n",
       "      <td>10</td>\n",
       "      <td>30</td>\n",
       "    </tr>\n",
       "    <tr>\n",
       "      <th>y</th>\n",
       "      <td>50</td>\n",
       "      <td>70</td>\n",
       "    </tr>\n",
       "    <tr>\n",
       "      <th>z</th>\n",
       "      <td>90</td>\n",
       "      <td>110</td>\n",
       "    </tr>\n",
       "  </tbody>\n",
       "</table>\n",
       "</div>"
      ],
      "text/plain": [
       "    a    c\n",
       "x  10   30\n",
       "y  50   70\n",
       "z  90  110"
      ]
     },
     "execution_count": 104,
     "metadata": {},
     "output_type": "execute_result"
    }
   ],
   "source": [
    "# if I want two columns, I can use fancy indexing\n",
    "df[['a', 'c']] # I get a new data frame back, with the index and the columns I specified"
   ]
  },
  {
   "cell_type": "code",
   "execution_count": 106,
   "id": "8f3e8b50",
   "metadata": {},
   "outputs": [
    {
     "data": {
      "text/plain": [
       "a    50\n",
       "b    60\n",
       "c    70\n",
       "d    80\n",
       "Name: y, dtype: int64"
      ]
     },
     "execution_count": 106,
     "metadata": {},
     "output_type": "execute_result"
    }
   ],
   "source": [
    "# remember I said that you should use .loc/.iloc to retrieve via the index on a series?\n",
    "# that's because we use .loc/.iloc to retrieve rows from our data frame\n",
    "\n",
    "# we get a series, because we're asked for 1D data, and that's how Pandas shows us 1D data\n",
    "\n",
    "df.loc['y']  # retrieve the row at index y"
   ]
  },
  {
   "cell_type": "code",
   "execution_count": 109,
   "id": "bc1dc601",
   "metadata": {},
   "outputs": [
    {
     "data": {
      "text/html": [
       "<div>\n",
       "<style scoped>\n",
       "    .dataframe tbody tr th:only-of-type {\n",
       "        vertical-align: middle;\n",
       "    }\n",
       "\n",
       "    .dataframe tbody tr th {\n",
       "        vertical-align: top;\n",
       "    }\n",
       "\n",
       "    .dataframe thead th {\n",
       "        text-align: right;\n",
       "    }\n",
       "</style>\n",
       "<table border=\"1\" class=\"dataframe\">\n",
       "  <thead>\n",
       "    <tr style=\"text-align: right;\">\n",
       "      <th></th>\n",
       "      <th>a</th>\n",
       "      <th>b</th>\n",
       "      <th>c</th>\n",
       "      <th>d</th>\n",
       "    </tr>\n",
       "  </thead>\n",
       "  <tbody>\n",
       "    <tr>\n",
       "      <th>x</th>\n",
       "      <td>10</td>\n",
       "      <td>20</td>\n",
       "      <td>30</td>\n",
       "      <td>40</td>\n",
       "    </tr>\n",
       "    <tr>\n",
       "      <th>y</th>\n",
       "      <td>50</td>\n",
       "      <td>60</td>\n",
       "      <td>70</td>\n",
       "      <td>80</td>\n",
       "    </tr>\n",
       "  </tbody>\n",
       "</table>\n",
       "</div>"
      ],
      "text/plain": [
       "    a   b   c   d\n",
       "x  10  20  30  40\n",
       "y  50  60  70  80"
      ]
     },
     "execution_count": 109,
     "metadata": {},
     "output_type": "execute_result"
    }
   ],
   "source": [
    "df.loc[['x', 'y']]   # fancy indexing to retrieve two rows"
   ]
  },
  {
   "cell_type": "code",
   "execution_count": 108,
   "id": "eb99ca74",
   "metadata": {},
   "outputs": [
    {
     "data": {
      "text/html": [
       "<div>\n",
       "<style scoped>\n",
       "    .dataframe tbody tr th:only-of-type {\n",
       "        vertical-align: middle;\n",
       "    }\n",
       "\n",
       "    .dataframe tbody tr th {\n",
       "        vertical-align: top;\n",
       "    }\n",
       "\n",
       "    .dataframe thead th {\n",
       "        text-align: right;\n",
       "    }\n",
       "</style>\n",
       "<table border=\"1\" class=\"dataframe\">\n",
       "  <thead>\n",
       "    <tr style=\"text-align: right;\">\n",
       "      <th></th>\n",
       "      <th>a</th>\n",
       "      <th>b</th>\n",
       "      <th>c</th>\n",
       "      <th>d</th>\n",
       "    </tr>\n",
       "  </thead>\n",
       "  <tbody>\n",
       "    <tr>\n",
       "      <th>x</th>\n",
       "      <td>10</td>\n",
       "      <td>20</td>\n",
       "      <td>30</td>\n",
       "      <td>40</td>\n",
       "    </tr>\n",
       "    <tr>\n",
       "      <th>y</th>\n",
       "      <td>50</td>\n",
       "      <td>60</td>\n",
       "      <td>70</td>\n",
       "      <td>80</td>\n",
       "    </tr>\n",
       "  </tbody>\n",
       "</table>\n",
       "</div>"
      ],
      "text/plain": [
       "    a   b   c   d\n",
       "x  10  20  30  40\n",
       "y  50  60  70  80"
      ]
     },
     "execution_count": 108,
     "metadata": {},
     "output_type": "execute_result"
    }
   ],
   "source": [
    "df.loc['x':'y']  # use a slice to retrieve two rows"
   ]
  },
  {
   "cell_type": "code",
   "execution_count": 110,
   "id": "f650327a",
   "metadata": {},
   "outputs": [
    {
     "data": {
      "text/plain": [
       "70"
      ]
     },
     "execution_count": 110,
     "metadata": {},
     "output_type": "execute_result"
    }
   ],
   "source": [
    "# if I want to retrieve from a particular row, and a particular column, I use .loc\n",
    "\n",
    "# I want row y, column c\n",
    "\n",
    "df.loc['y', 'c']  "
   ]
  },
  {
   "cell_type": "code",
   "execution_count": 111,
   "id": "648d64c7",
   "metadata": {},
   "outputs": [],
   "source": [
    "df.loc['y', 'c'] = 999"
   ]
  },
  {
   "cell_type": "code",
   "execution_count": 112,
   "id": "4b70de0b",
   "metadata": {},
   "outputs": [
    {
     "data": {
      "text/html": [
       "<div>\n",
       "<style scoped>\n",
       "    .dataframe tbody tr th:only-of-type {\n",
       "        vertical-align: middle;\n",
       "    }\n",
       "\n",
       "    .dataframe tbody tr th {\n",
       "        vertical-align: top;\n",
       "    }\n",
       "\n",
       "    .dataframe thead th {\n",
       "        text-align: right;\n",
       "    }\n",
       "</style>\n",
       "<table border=\"1\" class=\"dataframe\">\n",
       "  <thead>\n",
       "    <tr style=\"text-align: right;\">\n",
       "      <th></th>\n",
       "      <th>a</th>\n",
       "      <th>b</th>\n",
       "      <th>c</th>\n",
       "      <th>d</th>\n",
       "    </tr>\n",
       "  </thead>\n",
       "  <tbody>\n",
       "    <tr>\n",
       "      <th>x</th>\n",
       "      <td>10</td>\n",
       "      <td>20</td>\n",
       "      <td>30</td>\n",
       "      <td>40</td>\n",
       "    </tr>\n",
       "    <tr>\n",
       "      <th>y</th>\n",
       "      <td>50</td>\n",
       "      <td>60</td>\n",
       "      <td>999</td>\n",
       "      <td>80</td>\n",
       "    </tr>\n",
       "    <tr>\n",
       "      <th>z</th>\n",
       "      <td>90</td>\n",
       "      <td>100</td>\n",
       "      <td>110</td>\n",
       "      <td>120</td>\n",
       "    </tr>\n",
       "  </tbody>\n",
       "</table>\n",
       "</div>"
      ],
      "text/plain": [
       "    a    b    c    d\n",
       "x  10   20   30   40\n",
       "y  50   60  999   80\n",
       "z  90  100  110  120"
      ]
     },
     "execution_count": 112,
     "metadata": {},
     "output_type": "execute_result"
    }
   ],
   "source": [
    "df"
   ]
  },
  {
   "cell_type": "code",
   "execution_count": 113,
   "id": "b23f175a",
   "metadata": {},
   "outputs": [],
   "source": [
    "# don't be tempted to use this syntax:\n",
    "# this will work sometimes, but NOT ALL OF THE TIME, and you'll get a warning,\n",
    "# and it's very unpleasant to have code that works sometimes, but not always\n",
    "\n",
    "# if you have ] just before [ , you are almost certainly doing something wrong\n",
    "\n",
    "df.loc['y']['c'] = 888"
   ]
  },
  {
   "cell_type": "code",
   "execution_count": 114,
   "id": "9b450495",
   "metadata": {},
   "outputs": [
    {
     "data": {
      "text/html": [
       "<div>\n",
       "<style scoped>\n",
       "    .dataframe tbody tr th:only-of-type {\n",
       "        vertical-align: middle;\n",
       "    }\n",
       "\n",
       "    .dataframe tbody tr th {\n",
       "        vertical-align: top;\n",
       "    }\n",
       "\n",
       "    .dataframe thead th {\n",
       "        text-align: right;\n",
       "    }\n",
       "</style>\n",
       "<table border=\"1\" class=\"dataframe\">\n",
       "  <thead>\n",
       "    <tr style=\"text-align: right;\">\n",
       "      <th></th>\n",
       "      <th>a</th>\n",
       "      <th>b</th>\n",
       "      <th>c</th>\n",
       "      <th>d</th>\n",
       "    </tr>\n",
       "  </thead>\n",
       "  <tbody>\n",
       "    <tr>\n",
       "      <th>x</th>\n",
       "      <td>10</td>\n",
       "      <td>20</td>\n",
       "      <td>30</td>\n",
       "      <td>40</td>\n",
       "    </tr>\n",
       "    <tr>\n",
       "      <th>y</th>\n",
       "      <td>50</td>\n",
       "      <td>60</td>\n",
       "      <td>888</td>\n",
       "      <td>80</td>\n",
       "    </tr>\n",
       "    <tr>\n",
       "      <th>z</th>\n",
       "      <td>90</td>\n",
       "      <td>100</td>\n",
       "      <td>110</td>\n",
       "      <td>120</td>\n",
       "    </tr>\n",
       "  </tbody>\n",
       "</table>\n",
       "</div>"
      ],
      "text/plain": [
       "    a    b    c    d\n",
       "x  10   20   30   40\n",
       "y  50   60  888   80\n",
       "z  90  100  110  120"
      ]
     },
     "execution_count": 114,
     "metadata": {},
     "output_type": "execute_result"
    }
   ],
   "source": [
    "df"
   ]
  },
  {
   "cell_type": "markdown",
   "id": "96e10e04",
   "metadata": {},
   "source": [
    "# Exercise: Mini-market\n",
    "\n",
    "1. Define a data frame in which we have three columns: `product_name` , `price` and `sales`.  Define the data frame such that we have five different products.  The index will be numeric.\n",
    "2. Retrieve the `product_name` column.\n",
    "3. Retrieve the entire row for one product.\n",
    "4. Find the average price of items in the store.\n",
    "5. Find me the greatest number of sales that any product has.\n",
    "6. Choose a product, and get its price.\n",
    "7. Choose a product, and get the number of sales."
   ]
  },
  {
   "cell_type": "code",
   "execution_count": null,
   "id": "7911df50",
   "metadata": {},
   "outputs": [],
   "source": []
  }
 ],
 "metadata": {
  "kernelspec": {
   "display_name": "Python 3 (ipykernel)",
   "language": "python",
   "name": "python3"
  },
  "language_info": {
   "codemirror_mode": {
    "name": "ipython",
    "version": 3
   },
   "file_extension": ".py",
   "mimetype": "text/x-python",
   "name": "python",
   "nbconvert_exporter": "python",
   "pygments_lexer": "ipython3",
   "version": "3.10.5"
  }
 },
 "nbformat": 4,
 "nbformat_minor": 5
}
