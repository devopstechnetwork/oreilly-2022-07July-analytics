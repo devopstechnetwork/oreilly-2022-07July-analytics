{
 "cells": [
  {
   "cell_type": "markdown",
   "id": "7c9fb32b",
   "metadata": {},
   "source": [
    "# Agenda: Week 2\n",
    "\n",
    "1. Recap\n",
    "2. Dtypes (the types of data that we can use in Pandas)\n",
    "3. `NaN` (\"not a number\")\n",
    "4. DataFrames (2D data structures that we use in Pandas)\n",
    "5. Adding and removing data in our data frames\n",
    "6. Useful methods in our data frames\n",
    "7. Querying with boolean indexes\n",
    "8. Querying with `loc`\n",
    "9. Reading CSV data (meaning: Real-world data into our data frames)"
   ]
  },
  {
   "cell_type": "markdown",
   "id": "89468ec8",
   "metadata": {},
   "source": [
    "# Last week, quick recap\n",
    "\n",
    "1. Pandas has two types of data\n",
    "    - series (1D)\n",
    "    - data frame (2D)\n",
    "2. We can create a series by passing a Python list (or a similar iterable, such as a NumPy array)\n",
    "3. We can assign an index of our choosing to our series\n",
    "    - By default, it numbers the elements starting at 0, just like a list/string/tuple\n",
    "    - If we assign our own index, we can use integers, floats, or even strings\n",
    "4. Retrieving\n",
    "    - Retrieve via the index using `.loc`\n",
    "    - Retrieve via the numeric position (starting at 0) with `.iloc`\n",
    "    - We can use slices\n",
    "5. Broadcasting\n",
    "    - If we apply an operator to a series and a single value, that value is \"broadcast\" with the operator to every element of the series.  We get back a new series, the result of applying the value with the operator.\n",
    "    - If we use broadcasting with `==` or other comparison operators, we get back a \"boolean series,\" containing only `True` and `False` values\n",
    "6. Boolean indexing\n",
    "    - If we apply a boolean index to an existing series, then only those items that match a `True` value are returned.  Those matching a `False` value are ignored.\n",
    "    - This is why we don't need to use `if` or `for` in Pandas.  We use boolean indexes to find all of the values that match what we want."
   ]
  },
  {
   "cell_type": "code",
   "execution_count": 1,
   "id": "16ee9ace",
   "metadata": {},
   "outputs": [],
   "source": [
    "import numpy as np   # not critical, but might come in handy\n",
    "import pandas as pd  # uses the standard alias \"pd\"\n",
    "from pandas import Series, DataFrame  # this lets me use the names without pd. before them"
   ]
  },
  {
   "cell_type": "code",
   "execution_count": 3,
   "id": "67f6bfa9",
   "metadata": {},
   "outputs": [
    {
     "data": {
      "text/plain": [
       "0    10\n",
       "1    20\n",
       "2    30\n",
       "3    20\n",
       "4    30\n",
       "5    40\n",
       "6    20\n",
       "7    30\n",
       "8    40\n",
       "9    50\n",
       "dtype: int64"
      ]
     },
     "execution_count": 3,
     "metadata": {},
     "output_type": "execute_result"
    }
   ],
   "source": [
    "s = Series([10, 20, 30, 20, 30, 40, 20, 30, 40, 50]) # default, numeric index\n",
    "s"
   ]
  },
  {
   "cell_type": "code",
   "execution_count": 4,
   "id": "d5863283",
   "metadata": {},
   "outputs": [
    {
     "data": {
      "text/plain": [
       "29.0"
      ]
     },
     "execution_count": 4,
     "metadata": {},
     "output_type": "execute_result"
    }
   ],
   "source": [
    "s.mean()  # what is the mean of our series?"
   ]
  },
  {
   "cell_type": "code",
   "execution_count": 6,
   "id": "d36ed50a",
   "metadata": {},
   "outputs": [
    {
     "data": {
      "text/plain": [
       "29.0"
      ]
     },
     "execution_count": 6,
     "metadata": {},
     "output_type": "execute_result"
    }
   ],
   "source": [
    "s.sum() / s.count()"
   ]
  },
  {
   "cell_type": "code",
   "execution_count": 7,
   "id": "e6379a7d",
   "metadata": {},
   "outputs": [
    {
     "data": {
      "text/plain": [
       "30"
      ]
     },
     "execution_count": 7,
     "metadata": {},
     "output_type": "execute_result"
    }
   ],
   "source": [
    "# to retrieve an item, I can use either .loc or .iloc  (they'll be the same here)\n",
    "s.loc[4]"
   ]
  },
  {
   "cell_type": "code",
   "execution_count": 8,
   "id": "9b5406ed",
   "metadata": {},
   "outputs": [
    {
     "data": {
      "text/plain": [
       "40"
      ]
     },
     "execution_count": 8,
     "metadata": {},
     "output_type": "execute_result"
    }
   ],
   "source": [
    "s.iloc[8]"
   ]
  },
  {
   "cell_type": "code",
   "execution_count": 9,
   "id": "aceec3c8",
   "metadata": {},
   "outputs": [],
   "source": [
    "# If I want, I can define my own index on the series\n",
    "s.index = list('abcdefghij')  # 10 elements require 10 index items"
   ]
  },
  {
   "cell_type": "code",
   "execution_count": 10,
   "id": "901bbad4",
   "metadata": {},
   "outputs": [
    {
     "data": {
      "text/plain": [
       "a    10\n",
       "b    20\n",
       "c    30\n",
       "d    20\n",
       "e    30\n",
       "f    40\n",
       "g    20\n",
       "h    30\n",
       "i    40\n",
       "j    50\n",
       "dtype: int64"
      ]
     },
     "execution_count": 10,
     "metadata": {},
     "output_type": "execute_result"
    }
   ],
   "source": [
    "s"
   ]
  },
  {
   "cell_type": "code",
   "execution_count": 11,
   "id": "c9d7d3d9",
   "metadata": {},
   "outputs": [
    {
     "data": {
      "text/plain": [
       "30"
      ]
     },
     "execution_count": 11,
     "metadata": {},
     "output_type": "execute_result"
    }
   ],
   "source": [
    "s.loc['c']    # .loc uses the index"
   ]
  },
  {
   "cell_type": "code",
   "execution_count": 13,
   "id": "3c96fcf8",
   "metadata": {},
   "outputs": [
    {
     "data": {
      "text/plain": [
       "20"
      ]
     },
     "execution_count": 13,
     "metadata": {},
     "output_type": "execute_result"
    }
   ],
   "source": [
    "s.iloc[6]      # .iloc uses the position"
   ]
  },
  {
   "cell_type": "code",
   "execution_count": 14,
   "id": "45d752cb",
   "metadata": {},
   "outputs": [
    {
     "data": {
      "text/plain": [
       "a    10\n",
       "b    20\n",
       "c    30\n",
       "d    20\n",
       "e    30\n",
       "dtype: int64"
      ]
     },
     "execution_count": 14,
     "metadata": {},
     "output_type": "execute_result"
    }
   ],
   "source": [
    "s.head()   # show me the first 5 elements in s"
   ]
  },
  {
   "cell_type": "code",
   "execution_count": 15,
   "id": "c9090b35",
   "metadata": {},
   "outputs": [
    {
     "data": {
      "text/plain": [
       "f    40\n",
       "g    20\n",
       "h    30\n",
       "i    40\n",
       "j    50\n",
       "dtype: int64"
      ]
     },
     "execution_count": 15,
     "metadata": {},
     "output_type": "execute_result"
    }
   ],
   "source": [
    "s.tail()   # show me the final 5 elements in s"
   ]
  },
  {
   "cell_type": "code",
   "execution_count": 16,
   "id": "95813fd3",
   "metadata": {},
   "outputs": [
    {
     "data": {
      "text/plain": [
       "20    3\n",
       "30    3\n",
       "40    2\n",
       "10    1\n",
       "50    1\n",
       "dtype: int64"
      ]
     },
     "execution_count": 16,
     "metadata": {},
     "output_type": "execute_result"
    }
   ],
   "source": [
    "s.value_counts()  # how often is each value found in s?"
   ]
  },
  {
   "cell_type": "code",
   "execution_count": 17,
   "id": "ad2a85ae",
   "metadata": {},
   "outputs": [
    {
     "data": {
      "text/plain": [
       "count    10.00000\n",
       "mean     29.00000\n",
       "std      11.97219\n",
       "min      10.00000\n",
       "25%      20.00000\n",
       "50%      30.00000\n",
       "75%      37.50000\n",
       "max      50.00000\n",
       "dtype: float64"
      ]
     },
     "execution_count": 17,
     "metadata": {},
     "output_type": "execute_result"
    }
   ],
   "source": [
    "s.describe()   # gives me the descriptive statistics for s"
   ]
  },
  {
   "cell_type": "markdown",
   "id": "b4e935bb",
   "metadata": {},
   "source": [
    "# Dtypes \n",
    "\n",
    "We see a Pandas series, and we think of it as a Python data structure. But really, we're seeing 1/2 of the actual data structure. Half of it exists in Python, and we use that half.  But the actual data is the other half, sort of like the submerged part of an iceberg, and it is implemented in the C language.  Why? Because C is super fast and efficient.\n",
    "\n",
    "So the data isn't being stored in Python at all!  We don't get to use our familiar Python data structures, such as `int` or `float`.\n",
    "\n",
    "Instead, we need to think like C programmers, at least a little bit.  There's no such thing as an \"int\" in C.  Rather, they have 8-bit ints, 16-bit ints, 32-bit ints, etc.  The more bits, the larger/smaller the ints are that we can handle.  But the more bits, the more memory each value takes up.\n",
    "\n",
    "In Pandas, we think about these as \"dtypes\"."
   ]
  },
  {
   "cell_type": "code",
   "execution_count": 18,
   "id": "84bc75d0",
   "metadata": {},
   "outputs": [],
   "source": [
    "s = Series([10, 20, 30, 40, 50])  # Pandas sees only integers, so it guesses what dtype we want"
   ]
  },
  {
   "cell_type": "code",
   "execution_count": 19,
   "id": "dfd164ca",
   "metadata": {},
   "outputs": [
    {
     "data": {
      "text/plain": [
       "0    10\n",
       "1    20\n",
       "2    30\n",
       "3    40\n",
       "4    50\n",
       "dtype: int64"
      ]
     },
     "execution_count": 19,
     "metadata": {},
     "output_type": "execute_result"
    }
   ],
   "source": [
    "s"
   ]
  },
  {
   "cell_type": "code",
   "execution_count": 20,
   "id": "56d562db",
   "metadata": {},
   "outputs": [
    {
     "data": {
      "text/plain": [
       "4294967296"
      ]
     },
     "execution_count": 20,
     "metadata": {},
     "output_type": "execute_result"
    }
   ],
   "source": [
    "# The highest number we can get to with 64-bit ints is 2**32  (because of negative + positive numbers)\n",
    "2**32"
   ]
  },
  {
   "cell_type": "markdown",
   "id": "ac09db02",
   "metadata": {},
   "source": [
    "# How to decide what dtype to use\n",
    "\n",
    "- How big/small will the numbers be that you'll be dealing with?\n",
    "- The bigger the dtype, the more numbers you can handle\n",
    "- But the bigger the dtype, the more memory it'll use\n",
    "\n",
    "If I have 1b integers in my series:\n",
    "- 64-bit integers will result in 64 GB of memory to store this series\n",
    "- 32-bit integers will need 32 GB\n",
    "- 8-bit integers will need only 8GB"
   ]
  },
  {
   "cell_type": "code",
   "execution_count": 21,
   "id": "eef41000",
   "metadata": {},
   "outputs": [],
   "source": [
    "# how can I specify the dtype, if I don't like what Pandas is choosing by default?\n",
    "\n",
    "s = Series([10, 20, 30, 40, 50], dtype=np.int32)  # notice: dtypes are from NumPy"
   ]
  },
  {
   "cell_type": "code",
   "execution_count": 22,
   "id": "ae6b498e",
   "metadata": {},
   "outputs": [
    {
     "data": {
      "text/plain": [
       "0    10\n",
       "1    20\n",
       "2    30\n",
       "3    40\n",
       "4    50\n",
       "dtype: int32"
      ]
     },
     "execution_count": 22,
     "metadata": {},
     "output_type": "execute_result"
    }
   ],
   "source": [
    "s"
   ]
  },
  {
   "cell_type": "code",
   "execution_count": 23,
   "id": "e315e8d1",
   "metadata": {},
   "outputs": [],
   "source": [
    "s = Series([10, 20, 30, 40, 50], dtype=np.int8) "
   ]
  },
  {
   "cell_type": "code",
   "execution_count": 24,
   "id": "c09e6f75",
   "metadata": {},
   "outputs": [
    {
     "data": {
      "text/plain": [
       "0    10\n",
       "1    20\n",
       "2    30\n",
       "3    40\n",
       "4    50\n",
       "dtype: int8"
      ]
     },
     "execution_count": 24,
     "metadata": {},
     "output_type": "execute_result"
    }
   ],
   "source": [
    "# 8-bit integers\n",
    "\n",
    "s"
   ]
  },
  {
   "cell_type": "code",
   "execution_count": 25,
   "id": "ee7bcfa2",
   "metadata": {},
   "outputs": [
    {
     "data": {
      "text/plain": [
       "0    100\n",
       "1    -56\n",
       "2     44\n",
       "3   -112\n",
       "4    -12\n",
       "dtype: int8"
      ]
     },
     "execution_count": 25,
     "metadata": {},
     "output_type": "execute_result"
    }
   ],
   "source": [
    "# what happens if I do this:\n",
    "\n",
    "s * 10"
   ]
  },
  {
   "cell_type": "code",
   "execution_count": 26,
   "id": "a0df12bd",
   "metadata": {},
   "outputs": [
    {
     "data": {
      "text/plain": [
       "0    127\n",
       "1     20\n",
       "2     30\n",
       "3     40\n",
       "4     50\n",
       "dtype: int8"
      ]
     },
     "execution_count": 26,
     "metadata": {},
     "output_type": "execute_result"
    }
   ],
   "source": [
    "s.loc[0] = 127\n",
    "s"
   ]
  },
  {
   "cell_type": "code",
   "execution_count": 27,
   "id": "fe90bec8",
   "metadata": {},
   "outputs": [
    {
     "data": {
      "text/plain": [
       "0   -128\n",
       "1     21\n",
       "2     31\n",
       "3     41\n",
       "4     51\n",
       "dtype: int8"
      ]
     },
     "execution_count": 27,
     "metadata": {},
     "output_type": "execute_result"
    }
   ],
   "source": [
    "s + 1"
   ]
  },
  {
   "cell_type": "markdown",
   "id": "b173cf8d",
   "metadata": {},
   "source": [
    "# What dtypes are available?\n",
    "\n",
    "int, signed integers (both positive and negative)\n",
    "- `np.int8`  (or `np.dtype('int8')`)\n",
    "- `np.int16`\n",
    "- `np.int32`\n",
    "- `np.int64`\n",
    "\n",
    "uint, unsigned integers (only positive)\n",
    "- `np.uint8`\n",
    "- `np.uint16`\n",
    "- `np.uint32`\n",
    "- `np.uint64`\n",
    "\n",
    "Floating-point numbers\n",
    "- `np.float16`\n",
    "- `np.float32`\n",
    "- `np.float64`\n",
    "- `np.float128`"
   ]
  },
  {
   "cell_type": "code",
   "execution_count": 28,
   "id": "64f9c2c7",
   "metadata": {},
   "outputs": [
    {
     "data": {
      "text/plain": [
       "dtype('int8')"
      ]
     },
     "execution_count": 28,
     "metadata": {},
     "output_type": "execute_result"
    }
   ],
   "source": [
    "# how can I find out the dtype of a series?  Just ask it:\n",
    "\n",
    "s.dtype"
   ]
  },
  {
   "cell_type": "code",
   "execution_count": 29,
   "id": "1f6d1de1",
   "metadata": {},
   "outputs": [
    {
     "data": {
      "text/plain": [
       "0    127\n",
       "1     20\n",
       "2     30\n",
       "3     40\n",
       "4     50\n",
       "dtype: int8"
      ]
     },
     "execution_count": 29,
     "metadata": {},
     "output_type": "execute_result"
    }
   ],
   "source": [
    "s"
   ]
  },
  {
   "cell_type": "code",
   "execution_count": 30,
   "id": "9127af1d",
   "metadata": {},
   "outputs": [
    {
     "ename": "AttributeError",
     "evalue": "can't set attribute 'dtype'",
     "output_type": "error",
     "traceback": [
      "\u001b[0;31m---------------------------------------------------------------------------\u001b[0m",
      "\u001b[0;31mAttributeError\u001b[0m                            Traceback (most recent call last)",
      "\u001b[0;32m/usr/local/lib/python3.10/site-packages/pandas/core/generic.py\u001b[0m in \u001b[0;36m__setattr__\u001b[0;34m(self, name, value)\u001b[0m\n\u001b[1;32m   5605\u001b[0m                 \u001b[0;32melse\u001b[0m\u001b[0;34m:\u001b[0m\u001b[0;34m\u001b[0m\u001b[0;34m\u001b[0m\u001b[0m\n\u001b[0;32m-> 5606\u001b[0;31m                     \u001b[0mobject\u001b[0m\u001b[0;34m.\u001b[0m\u001b[0m__setattr__\u001b[0m\u001b[0;34m(\u001b[0m\u001b[0mself\u001b[0m\u001b[0;34m,\u001b[0m \u001b[0mname\u001b[0m\u001b[0;34m,\u001b[0m \u001b[0mvalue\u001b[0m\u001b[0;34m)\u001b[0m\u001b[0;34m\u001b[0m\u001b[0;34m\u001b[0m\u001b[0m\n\u001b[0m\u001b[1;32m   5607\u001b[0m             \u001b[0;32mexcept\u001b[0m \u001b[0;34m(\u001b[0m\u001b[0mAttributeError\u001b[0m\u001b[0;34m,\u001b[0m \u001b[0mTypeError\u001b[0m\u001b[0;34m)\u001b[0m\u001b[0;34m:\u001b[0m\u001b[0;34m\u001b[0m\u001b[0;34m\u001b[0m\u001b[0m\n",
      "\u001b[0;31mAttributeError\u001b[0m: can't set attribute 'dtype'",
      "\nDuring handling of the above exception, another exception occurred:\n",
      "\u001b[0;31mAttributeError\u001b[0m                            Traceback (most recent call last)",
      "\u001b[0;32m/var/folders/rr/0mnyyv811fs5vyp22gf4fxk00000gn/T/ipykernel_10226/959266666.py\u001b[0m in \u001b[0;36m<module>\u001b[0;34m\u001b[0m\n\u001b[1;32m      3\u001b[0m \u001b[0;34m\u001b[0m\u001b[0m\n\u001b[1;32m      4\u001b[0m \u001b[0;31m# option 1: assign to the dtype\u001b[0m\u001b[0;34m\u001b[0m\u001b[0;34m\u001b[0m\u001b[0m\n\u001b[0;32m----> 5\u001b[0;31m \u001b[0ms\u001b[0m\u001b[0;34m.\u001b[0m\u001b[0mdtype\u001b[0m \u001b[0;34m=\u001b[0m \u001b[0mnp\u001b[0m\u001b[0;34m.\u001b[0m\u001b[0mint16\u001b[0m\u001b[0;34m\u001b[0m\u001b[0;34m\u001b[0m\u001b[0m\n\u001b[0m",
      "\u001b[0;32m/usr/local/lib/python3.10/site-packages/pandas/core/generic.py\u001b[0m in \u001b[0;36m__setattr__\u001b[0;34m(self, name, value)\u001b[0m\n\u001b[1;32m   5614\u001b[0m                         \u001b[0mstacklevel\u001b[0m\u001b[0;34m=\u001b[0m\u001b[0mfind_stack_level\u001b[0m\u001b[0;34m(\u001b[0m\u001b[0;34m)\u001b[0m\u001b[0;34m,\u001b[0m\u001b[0;34m\u001b[0m\u001b[0;34m\u001b[0m\u001b[0m\n\u001b[1;32m   5615\u001b[0m                     )\n\u001b[0;32m-> 5616\u001b[0;31m                 \u001b[0mobject\u001b[0m\u001b[0;34m.\u001b[0m\u001b[0m__setattr__\u001b[0m\u001b[0;34m(\u001b[0m\u001b[0mself\u001b[0m\u001b[0;34m,\u001b[0m \u001b[0mname\u001b[0m\u001b[0;34m,\u001b[0m \u001b[0mvalue\u001b[0m\u001b[0;34m)\u001b[0m\u001b[0;34m\u001b[0m\u001b[0;34m\u001b[0m\u001b[0m\n\u001b[0m\u001b[1;32m   5617\u001b[0m \u001b[0;34m\u001b[0m\u001b[0m\n\u001b[1;32m   5618\u001b[0m     \u001b[0;34m@\u001b[0m\u001b[0mfinal\u001b[0m\u001b[0;34m\u001b[0m\u001b[0;34m\u001b[0m\u001b[0m\n",
      "\u001b[0;31mAttributeError\u001b[0m: can't set attribute 'dtype'"
     ]
    }
   ],
   "source": [
    "# I now realize that I'm going to need a bigger dtype for my numbers in s.\n",
    "# what can I do?\n",
    "\n",
    "# option 1: assign to the dtype -- not possible in Pandas!\n",
    "s.dtype = np.int16"
   ]
  },
  {
   "cell_type": "code",
   "execution_count": 32,
   "id": "c0fa4ce7",
   "metadata": {},
   "outputs": [
    {
     "data": {
      "text/plain": [
       "0    127\n",
       "1     20\n",
       "2     30\n",
       "3     40\n",
       "4     50\n",
       "dtype: int16"
      ]
     },
     "execution_count": 32,
     "metadata": {},
     "output_type": "execute_result"
    }
   ],
   "source": [
    "# option 2: Create a new series, based on the existing one, with a new dtype\n",
    "# the way we do this is with the \"astype\" method\n",
    "\n",
    "# just run \"astype\" on a series, passing as an argument the dtype you want\n",
    "# this returns a new series -- it doesn't change s!\n",
    "s.astype(np.int16)"
   ]
  },
  {
   "cell_type": "code",
   "execution_count": 33,
   "id": "b8a3275b",
   "metadata": {},
   "outputs": [],
   "source": [
    "# this is how we really change the dtype\n",
    "s = s.astype(np.int16)"
   ]
  },
  {
   "cell_type": "code",
   "execution_count": 34,
   "id": "bb559eac",
   "metadata": {},
   "outputs": [
    {
     "data": {
      "text/plain": [
       "0    127\n",
       "1     20\n",
       "2     30\n",
       "3     40\n",
       "4     50\n",
       "dtype: int16"
      ]
     },
     "execution_count": 34,
     "metadata": {},
     "output_type": "execute_result"
    }
   ],
   "source": [
    "s"
   ]
  },
  {
   "cell_type": "code",
   "execution_count": 36,
   "id": "415c4760",
   "metadata": {},
   "outputs": [
    {
     "data": {
      "text/plain": [
       "0    10.0\n",
       "1    20.0\n",
       "2    30.5\n",
       "3    40.0\n",
       "4    50.8\n",
       "dtype: float64"
      ]
     },
     "execution_count": 36,
     "metadata": {},
     "output_type": "execute_result"
    }
   ],
   "source": [
    "# Pandas automatically detects that it needs to use floating-point numbers\n",
    "# because some of the input list's elements are floats\n",
    "\n",
    "# So it chooses float64 -- not a bad choice!\n",
    "s = Series([10, 20, 30.5, 40, 50.8])\n",
    "s"
   ]
  },
  {
   "cell_type": "code",
   "execution_count": 38,
   "id": "0afad140",
   "metadata": {},
   "outputs": [
    {
     "data": {
      "text/plain": [
       "0    10\n",
       "1    20\n",
       "2    30\n",
       "3    40\n",
       "4    50\n",
       "dtype: int64"
      ]
     },
     "execution_count": 38,
     "metadata": {},
     "output_type": "execute_result"
    }
   ],
   "source": [
    "# I want to remove the floating-point parts from s\n",
    "# this basically runs \"int\" on every element\n",
    "s.astype(np.int64)"
   ]
  },
  {
   "cell_type": "markdown",
   "id": "61794077",
   "metadata": {},
   "source": [
    "# What happens if I create a series of strings?\n",
    "\n"
   ]
  },
  {
   "cell_type": "code",
   "execution_count": 39,
   "id": "4a7339d8",
   "metadata": {},
   "outputs": [
    {
     "data": {
      "text/plain": [
       "0       this\n",
       "1         is\n",
       "2        the\n",
       "3       most\n",
       "4    amazing\n",
       "5     course\n",
       "6      ever!\n",
       "dtype: object"
      ]
     },
     "execution_count": 39,
     "metadata": {},
     "output_type": "execute_result"
    }
   ],
   "source": [
    "# this created a series of *strings*\n",
    "# the dtype here is ... object -- meaning, Python objects, handled by Python, not NumPy\n",
    "\n",
    "s = Series('this is the most amazing course ever!'.split())\n",
    "s"
   ]
  },
  {
   "cell_type": "code",
   "execution_count": 40,
   "id": "cdb17aa2",
   "metadata": {},
   "outputs": [
    {
     "data": {
      "text/plain": [
       "0    10\n",
       "1    20\n",
       "2    30\n",
       "dtype: object"
      ]
     },
     "execution_count": 40,
     "metadata": {},
     "output_type": "execute_result"
    }
   ],
   "source": [
    "s = Series('10 20 30'.split())\n",
    "s"
   ]
  },
  {
   "cell_type": "code",
   "execution_count": 41,
   "id": "dab32bd9",
   "metadata": {},
   "outputs": [
    {
     "data": {
      "text/plain": [
       "0    1010\n",
       "1    2020\n",
       "2    3030\n",
       "dtype: object"
      ]
     },
     "execution_count": 41,
     "metadata": {},
     "output_type": "execute_result"
    }
   ],
   "source": [
    "s + s   # what will I get back?"
   ]
  },
  {
   "cell_type": "code",
   "execution_count": 42,
   "id": "ebf8f384",
   "metadata": {},
   "outputs": [
    {
     "data": {
      "text/plain": [
       "0    10\n",
       "1    20\n",
       "2    30\n",
       "dtype: int8"
      ]
     },
     "execution_count": 42,
     "metadata": {},
     "output_type": "execute_result"
    }
   ],
   "source": [
    "# get integers from our strings, using astype\n",
    "\n",
    "s.astype(np.int8)"
   ]
  },
  {
   "cell_type": "code",
   "execution_count": 45,
   "id": "f51a9234",
   "metadata": {},
   "outputs": [
    {
     "data": {
      "text/plain": [
       "0    10\n",
       "1    20\n",
       "2    30\n",
       "dtype: object"
      ]
     },
     "execution_count": 45,
     "metadata": {},
     "output_type": "execute_result"
    }
   ],
   "source": [
    "# to use astype with object, use \"object\" not \"np.object\"\n",
    "s.astype(object)"
   ]
  },
  {
   "cell_type": "markdown",
   "id": "148be97c",
   "metadata": {},
   "source": [
    "# Exercise: Calcuating from text input\n",
    "\n",
    "1. Define a Python string containing integers, separated by spaces.\n",
    "2. Define a Pandas series whose elements are strings, based on that string.\n",
    "3. Calculate the mean of the numbers in the series."
   ]
  },
  {
   "cell_type": "code",
   "execution_count": 46,
   "id": "7145bfa2",
   "metadata": {},
   "outputs": [
    {
     "data": {
      "text/plain": [
       "0    10\n",
       "1    20\n",
       "2    30\n",
       "3    20\n",
       "4    30\n",
       "5    40\n",
       "6    50\n",
       "7    60\n",
       "dtype: object"
      ]
     },
     "execution_count": 46,
     "metadata": {},
     "output_type": "execute_result"
    }
   ],
   "source": [
    "text = '10 20 30 20 30 40 50 60'\n",
    "\n",
    "s = Series(text.split())\n",
    "s"
   ]
  },
  {
   "cell_type": "code",
   "execution_count": 47,
   "id": "3e8b6789",
   "metadata": {},
   "outputs": [
    {
     "name": "stderr",
     "output_type": "stream",
     "text": [
      "/usr/local/lib/python3.10/site-packages/numpy/core/numeric.py:2449: FutureWarning: elementwise comparison failed; returning scalar instead, but in the future will perform elementwise comparison\n",
      "  return bool(asarray(a1 == a2).all())\n"
     ]
    },
    {
     "ename": "ValueError",
     "evalue": "values cannot be losslessly cast to int8",
     "output_type": "error",
     "traceback": [
      "\u001b[0;31m---------------------------------------------------------------------------\u001b[0m",
      "\u001b[0;31mValueError\u001b[0m                                Traceback (most recent call last)",
      "\u001b[0;32m/var/folders/rr/0mnyyv811fs5vyp22gf4fxk00000gn/T/ipykernel_10226/4073588866.py\u001b[0m in \u001b[0;36m<module>\u001b[0;34m\u001b[0m\n\u001b[1;32m      1\u001b[0m \u001b[0;31m# option 1: tell it the dtype at creation time\u001b[0m\u001b[0;34m\u001b[0m\u001b[0;34m\u001b[0m\u001b[0m\n\u001b[0;32m----> 2\u001b[0;31m \u001b[0ms\u001b[0m \u001b[0;34m=\u001b[0m \u001b[0mSeries\u001b[0m\u001b[0;34m(\u001b[0m\u001b[0mtext\u001b[0m\u001b[0;34m.\u001b[0m\u001b[0msplit\u001b[0m\u001b[0;34m(\u001b[0m\u001b[0;34m)\u001b[0m\u001b[0;34m,\u001b[0m \u001b[0mdtype\u001b[0m\u001b[0;34m=\u001b[0m\u001b[0mnp\u001b[0m\u001b[0;34m.\u001b[0m\u001b[0mint8\u001b[0m\u001b[0;34m)\u001b[0m\u001b[0;34m\u001b[0m\u001b[0;34m\u001b[0m\u001b[0m\n\u001b[0m\u001b[1;32m      3\u001b[0m \u001b[0ms\u001b[0m\u001b[0;34m\u001b[0m\u001b[0;34m\u001b[0m\u001b[0m\n",
      "\u001b[0;32m/usr/local/lib/python3.10/site-packages/pandas/core/series.py\u001b[0m in \u001b[0;36m__init__\u001b[0;34m(self, data, index, dtype, name, copy, fastpath)\u001b[0m\n\u001b[1;32m    449\u001b[0m                     \u001b[0mdata\u001b[0m \u001b[0;34m=\u001b[0m \u001b[0mdata\u001b[0m\u001b[0;34m.\u001b[0m\u001b[0mcopy\u001b[0m\u001b[0;34m(\u001b[0m\u001b[0;34m)\u001b[0m\u001b[0;34m\u001b[0m\u001b[0;34m\u001b[0m\u001b[0m\n\u001b[1;32m    450\u001b[0m             \u001b[0;32melse\u001b[0m\u001b[0;34m:\u001b[0m\u001b[0;34m\u001b[0m\u001b[0;34m\u001b[0m\u001b[0m\n\u001b[0;32m--> 451\u001b[0;31m                 \u001b[0mdata\u001b[0m \u001b[0;34m=\u001b[0m \u001b[0msanitize_array\u001b[0m\u001b[0;34m(\u001b[0m\u001b[0mdata\u001b[0m\u001b[0;34m,\u001b[0m \u001b[0mindex\u001b[0m\u001b[0;34m,\u001b[0m \u001b[0mdtype\u001b[0m\u001b[0;34m,\u001b[0m \u001b[0mcopy\u001b[0m\u001b[0;34m)\u001b[0m\u001b[0;34m\u001b[0m\u001b[0;34m\u001b[0m\u001b[0m\n\u001b[0m\u001b[1;32m    452\u001b[0m \u001b[0;34m\u001b[0m\u001b[0m\n\u001b[1;32m    453\u001b[0m                 \u001b[0mmanager\u001b[0m \u001b[0;34m=\u001b[0m \u001b[0mget_option\u001b[0m\u001b[0;34m(\u001b[0m\u001b[0;34m\"mode.data_manager\"\u001b[0m\u001b[0;34m)\u001b[0m\u001b[0;34m\u001b[0m\u001b[0;34m\u001b[0m\u001b[0m\n",
      "\u001b[0;32m/usr/local/lib/python3.10/site-packages/pandas/core/construction.py\u001b[0m in \u001b[0;36msanitize_array\u001b[0;34m(data, index, dtype, copy, raise_cast_failure, allow_2d)\u001b[0m\n\u001b[1;32m    592\u001b[0m \u001b[0;34m\u001b[0m\u001b[0m\n\u001b[1;32m    593\u001b[0m         \u001b[0;32mif\u001b[0m \u001b[0mdtype\u001b[0m \u001b[0;32mis\u001b[0m \u001b[0;32mnot\u001b[0m \u001b[0;32mNone\u001b[0m \u001b[0;32mor\u001b[0m \u001b[0mlen\u001b[0m\u001b[0;34m(\u001b[0m\u001b[0mdata\u001b[0m\u001b[0;34m)\u001b[0m \u001b[0;34m==\u001b[0m \u001b[0;36m0\u001b[0m\u001b[0;34m:\u001b[0m\u001b[0;34m\u001b[0m\u001b[0;34m\u001b[0m\u001b[0m\n\u001b[0;32m--> 594\u001b[0;31m             \u001b[0msubarr\u001b[0m \u001b[0;34m=\u001b[0m \u001b[0m_try_cast\u001b[0m\u001b[0;34m(\u001b[0m\u001b[0mdata\u001b[0m\u001b[0;34m,\u001b[0m \u001b[0mdtype\u001b[0m\u001b[0;34m,\u001b[0m \u001b[0mcopy\u001b[0m\u001b[0;34m,\u001b[0m \u001b[0mraise_cast_failure\u001b[0m\u001b[0;34m)\u001b[0m\u001b[0;34m\u001b[0m\u001b[0;34m\u001b[0m\u001b[0m\n\u001b[0m\u001b[1;32m    595\u001b[0m         \u001b[0;32melse\u001b[0m\u001b[0;34m:\u001b[0m\u001b[0;34m\u001b[0m\u001b[0;34m\u001b[0m\u001b[0m\n\u001b[1;32m    596\u001b[0m             \u001b[0msubarr\u001b[0m \u001b[0;34m=\u001b[0m \u001b[0mmaybe_convert_platform\u001b[0m\u001b[0;34m(\u001b[0m\u001b[0mdata\u001b[0m\u001b[0;34m)\u001b[0m\u001b[0;34m\u001b[0m\u001b[0;34m\u001b[0m\u001b[0m\n",
      "\u001b[0;32m/usr/local/lib/python3.10/site-packages/pandas/core/construction.py\u001b[0m in \u001b[0;36m_try_cast\u001b[0;34m(arr, dtype, copy, raise_cast_failure)\u001b[0m\n\u001b[1;32m    777\u001b[0m             \u001b[0;31m# this will raise if we have e.g. floats\u001b[0m\u001b[0;34m\u001b[0m\u001b[0;34m\u001b[0m\u001b[0m\n\u001b[1;32m    778\u001b[0m \u001b[0;34m\u001b[0m\u001b[0m\n\u001b[0;32m--> 779\u001b[0;31m             \u001b[0msubarr\u001b[0m \u001b[0;34m=\u001b[0m \u001b[0mmaybe_cast_to_integer_array\u001b[0m\u001b[0;34m(\u001b[0m\u001b[0marr\u001b[0m\u001b[0;34m,\u001b[0m \u001b[0mdtype\u001b[0m\u001b[0;34m)\u001b[0m\u001b[0;34m\u001b[0m\u001b[0;34m\u001b[0m\u001b[0m\n\u001b[0m\u001b[1;32m    780\u001b[0m         \u001b[0;32melse\u001b[0m\u001b[0;34m:\u001b[0m\u001b[0;34m\u001b[0m\u001b[0;34m\u001b[0m\u001b[0m\n\u001b[1;32m    781\u001b[0m             \u001b[0;31m# 4 tests fail if we move this to a try/except/else; see\u001b[0m\u001b[0;34m\u001b[0m\u001b[0;34m\u001b[0m\u001b[0m\n",
      "\u001b[0;32m/usr/local/lib/python3.10/site-packages/pandas/core/dtypes/cast.py\u001b[0m in \u001b[0;36mmaybe_cast_to_integer_array\u001b[0;34m(arr, dtype, copy)\u001b[0m\n\u001b[1;32m   2085\u001b[0m \u001b[0;34m\u001b[0m\u001b[0m\n\u001b[1;32m   2086\u001b[0m     \u001b[0;31m# No known cases that get here, but raising explicitly to cover our bases.\u001b[0m\u001b[0;34m\u001b[0m\u001b[0;34m\u001b[0m\u001b[0m\n\u001b[0;32m-> 2087\u001b[0;31m     \u001b[0;32mraise\u001b[0m \u001b[0mValueError\u001b[0m\u001b[0;34m(\u001b[0m\u001b[0;34mf\"values cannot be losslessly cast to {dtype}\"\u001b[0m\u001b[0;34m)\u001b[0m\u001b[0;34m\u001b[0m\u001b[0;34m\u001b[0m\u001b[0m\n\u001b[0m\u001b[1;32m   2088\u001b[0m \u001b[0;34m\u001b[0m\u001b[0m\n\u001b[1;32m   2089\u001b[0m \u001b[0;34m\u001b[0m\u001b[0m\n",
      "\u001b[0;31mValueError\u001b[0m: values cannot be losslessly cast to int8"
     ]
    }
   ],
   "source": [
    "# option 1: tell it the dtype at creation time\n",
    "s = Series(text.split(), dtype=np.int8)\n"
   ]
  },
  {
   "cell_type": "code",
   "execution_count": null,
   "id": "29feca00",
   "metadata": {},
   "outputs": [],
   "source": []
  }
 ],
 "metadata": {
  "kernelspec": {
   "display_name": "Python 3 (ipykernel)",
   "language": "python",
   "name": "python3"
  },
  "language_info": {
   "codemirror_mode": {
    "name": "ipython",
    "version": 3
   },
   "file_extension": ".py",
   "mimetype": "text/x-python",
   "name": "python",
   "nbconvert_exporter": "python",
   "pygments_lexer": "ipython3",
   "version": "3.10.5"
  }
 },
 "nbformat": 4,
 "nbformat_minor": 5
}
