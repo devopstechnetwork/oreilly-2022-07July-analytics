{
 "cells": [
  {
   "cell_type": "markdown",
   "id": "80f480a2",
   "metadata": {},
   "source": [
    "# Agenda: Week 2\n",
    "\n",
    "1. Recap\n",
    "2. Dtypes (the types of data that we can use in Pandas)\n",
    "3. `NaN` (\"not a number\")\n",
    "4. DataFrames (2D data structures that we use in Pandas)\n",
    "5. Adding and removing data in our data frames\n",
    "6. Useful methods in our data frames\n",
    "7. Querying with boolean indexes\n",
    "8. Querying with `loc`\n",
    "9. Reading CSV data (meaning: Real-world data into our data frames)"
   ]
  },
  {
   "cell_type": "markdown",
   "id": "b8316235",
   "metadata": {},
   "source": [
    "# Last week, quick rac"
   ]
  }
 ],
 "metadata": {
  "kernelspec": {
   "display_name": "Python 3 (ipykernel)",
   "language": "python",
   "name": "python3"
  },
  "language_info": {
   "codemirror_mode": {
    "name": "ipython",
    "version": 3
   },
   "file_extension": ".py",
   "mimetype": "text/x-python",
   "name": "python",
   "nbconvert_exporter": "python",
   "pygments_lexer": "ipython3",
   "version": "3.10.5"
  }
 },
 "nbformat": 4,
 "nbformat_minor": 5
}
