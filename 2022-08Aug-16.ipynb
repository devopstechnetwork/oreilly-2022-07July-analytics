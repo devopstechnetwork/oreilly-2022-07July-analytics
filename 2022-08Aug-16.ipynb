{
 "cells": [
  {
   "cell_type": "markdown",
   "id": "c6d111d6",
   "metadata": {},
   "source": [
    "# Agenda: Real-world\n",
    "\n",
    "1. Recap and Q&A\n",
    "2. More about CSV\n",
    "3. Sorting with data\n",
    "4. Grouping\n",
    "5. Pivot tables\n",
    "6. Joining\n",
    "7. Cleaning\n"
   ]
  },
  {
   "cell_type": "code",
   "execution_count": 3,
   "id": "ea4e2219",
   "metadata": {},
   "outputs": [],
   "source": [
    "import numpy as np\n",
    "import pandas as pd\n",
    "from pandas import Series, DataFrame"
   ]
  },
  {
   "cell_type": "code",
   "execution_count": 4,
   "id": "aee3fe42",
   "metadata": {},
   "outputs": [],
   "source": [
    "df = DataFrame([[10, 20, 30, 40],\n",
    "                [50, 60, 70, 80]],\n",
    "               index=list('ab'),\n",
    "               columns=list('wxyz'))"
   ]
  },
  {
   "cell_type": "code",
   "execution_count": 5,
   "id": "8cbc0730",
   "metadata": {},
   "outputs": [
    {
     "data": {
      "text/html": [
       "<div>\n",
       "<style scoped>\n",
       "    .dataframe tbody tr th:only-of-type {\n",
       "        vertical-align: middle;\n",
       "    }\n",
       "\n",
       "    .dataframe tbody tr th {\n",
       "        vertical-align: top;\n",
       "    }\n",
       "\n",
       "    .dataframe thead th {\n",
       "        text-align: right;\n",
       "    }\n",
       "</style>\n",
       "<table border=\"1\" class=\"dataframe\">\n",
       "  <thead>\n",
       "    <tr style=\"text-align: right;\">\n",
       "      <th></th>\n",
       "      <th>w</th>\n",
       "      <th>x</th>\n",
       "      <th>y</th>\n",
       "      <th>z</th>\n",
       "    </tr>\n",
       "  </thead>\n",
       "  <tbody>\n",
       "    <tr>\n",
       "      <th>a</th>\n",
       "      <td>10</td>\n",
       "      <td>20</td>\n",
       "      <td>30</td>\n",
       "      <td>40</td>\n",
       "    </tr>\n",
       "    <tr>\n",
       "      <th>b</th>\n",
       "      <td>50</td>\n",
       "      <td>60</td>\n",
       "      <td>70</td>\n",
       "      <td>80</td>\n",
       "    </tr>\n",
       "  </tbody>\n",
       "</table>\n",
       "</div>"
      ],
      "text/plain": [
       "    w   x   y   z\n",
       "a  10  20  30  40\n",
       "b  50  60  70  80"
      ]
     },
     "execution_count": 5,
     "metadata": {},
     "output_type": "execute_result"
    }
   ],
   "source": [
    "df"
   ]
  },
  {
   "cell_type": "code",
   "execution_count": 6,
   "id": "1a1ec292",
   "metadata": {},
   "outputs": [
    {
     "data": {
      "text/plain": [
       "w    50\n",
       "x    60\n",
       "y    70\n",
       "z    80\n",
       "Name: b, dtype: int64"
      ]
     },
     "execution_count": 6,
     "metadata": {},
     "output_type": "execute_result"
    }
   ],
   "source": [
    "# retrieve an entire row, use .loc\n",
    "\n",
    "df.loc['b']"
   ]
  },
  {
   "cell_type": "code",
   "execution_count": null,
   "id": "8b4bf64d",
   "metadata": {},
   "outputs": [],
   "source": []
  }
 ],
 "metadata": {
  "kernelspec": {
   "display_name": "Python 3 (ipykernel)",
   "language": "python",
   "name": "python3"
  },
  "language_info": {
   "codemirror_mode": {
    "name": "ipython",
    "version": 3
   },
   "file_extension": ".py",
   "mimetype": "text/x-python",
   "name": "python",
   "nbconvert_exporter": "python",
   "pygments_lexer": "ipython3",
   "version": "3.10.6"
  }
 },
 "nbformat": 4,
 "nbformat_minor": 5
}
