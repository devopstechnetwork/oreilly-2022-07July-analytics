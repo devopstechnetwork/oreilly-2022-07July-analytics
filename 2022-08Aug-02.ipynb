{
 "cells": [
  {
   "cell_type": "markdown",
   "metadata": {},
   "source": [
    "# Welcome and agenda\n",
    "\n",
    "1. Getting started\n",
    "    - What is data analysis?\n",
    "    - What is Pandas?\n",
    "    - Descriptive statistics\n",
    "    - Using Pandas series\n",
    "    - Broadcasting \n",
    "    - Mask arrays\n",
    "    - Useful methods\n",
    "2. Data types and data frames\n",
    "    - dtypes (different types of data we can store)\n",
    "    - `NaN` (\"not a number\")\n",
    "    - Data frames\n",
    "    - Querying with boolean/mask indexes\n",
    "    - Reading CSV data\n",
    "3. Real-world data\n",
    "    - CSV\n",
    "    - Online data\n",
    "    - Sorting\n",
    "    - Grouping\n",
    "    - Pivot tables\n",
    "    - Joining\n",
    "    - Cleaning data\n",
    "4. Text and dates\n",
    "    - Text\n",
    "    - Dates\n",
    "5. Visualization\n",
    "    - Line plots\n",
    "    - Bar plots\n",
    "    - Histograms\n",
    "    - Pie plots\n",
    "    - Scatter plots\n",
    "    - Boxplots\n",
    "    \n",
    "\n",
    "\n"
   ]
  },
  {
   "cell_type": "markdown",
   "metadata": {},
   "source": [
    "# What is data?\n",
    "\n",
    "If we're talking about data analysis, then we should really know what data is!\n",
    "\n",
    "The nouns in the computer world are data.\n",
    "    - Files (lots of types of files)\n",
    "    - Logs (information about who did what, and when, on which computer)\n",
    "    - Preferences (e.g., Netflix)\n",
    "    - Store inventories and purchasing histories\n",
    "    \n",
    "Thanks to mobile devices, and computers, and companies all getting interconnected, there is a **LOT** of data out there.  \n",
    "\n",
    "The problem isn't finding data. The problem is understanding what our data really means, and doing something useful with it.\n",
    "\n",
    "The scientific method means: I ask a question, and I try to answer that question as best as possible, using techniques that others have demonstrated are reliable.  Data science is all about applying that method to the world of data.\n",
    "\n",
    "I want to be able to ask a question, and then answer it.  I'll use data in order to do that.\n",
    "\n",
    "Some examples:\n",
    "    - What products are selling best?\n",
    "    - What products are selling best in each country?  In each age demographic? In each country vs. each age demographic?\n",
    "    - Which employees are bringing in the most sales?\n",
    "    - Which universities' graduates earn the most money 10 years after graduating?\n",
    "    - Which stocks/bonds/investments have done best over the last 10 years? 50 years?  "
   ]
  },
  {
   "cell_type": "markdown",
   "metadata": {},
   "source": [
    "# Data science\n",
    "\n",
    "The idea is: Use scientific principles to ask questions and answer them with data.\n",
    "\n",
    "I divide the world of data science into three pieces:\n",
    "\n",
    "- Data analysis — use the data we've collected to understand the past and present\n",
    "- Data engineering — there's so much data out there, in so many different formats and sources, and getting it in a timely, organized way to our team's computers is hard -- data engineers solve these problems\n",
    "- Machine learning — learn from the past, to make predictions about the future\n",
    "\n",
    "\n",
    "How are we going to gather the data, and ask questions?  We're going to read it into data structures on our computer, and then use methods on those data structures to create queries.  We'll be using Python and Pandas in this course."
   ]
  },
  {
   "cell_type": "markdown",
   "metadata": {},
   "source": [
    "# Exercise: Think about data\n",
    "\n",
    "What data does Amazon have about its products? What data does Amazon have about you? How does Amazon use this data in its business?"
   ]
  },
  {
   "cell_type": "markdown",
   "metadata": {},
   "source": [
    "# Python -- why is this a language for data analytics?\n",
    "\n",
    "It's also a very good choice:\n",
    "- Easy to read\n",
    "- Easy to learn\n",
    "- Lots of support\n",
    "- Open source (cheap or free)\n",
    "\n",
    "It's a very bad choice, in many ways:\n",
    "- It runs slowly (relative to many other languages)\n",
    "- It uses lots of memory\n",
    "\n",
    "Data analytics uses *lots* of data, often many hundreds of megabytes -- or more!   It's not at all unusual to have data sets that are several GB in size.  If the same data in Python is 10x bigger than the data in C, then you can handle more data in C, even if it's a harder language to work with.\n",
    "\n",
    "The reason is something called \"NumPy.\" This is a Python module, written mostly in C.  It allows us to work with data in C format (i.e., very fast, very small), using a very thin layer of Python on top of it.  NumPy is super fast and super efficient, but it lets us work with friendly Python code.\n",
    "\n",
    "The best of both worlds!  (Almost)\n",
    "\n",
    "NumPy can still be a bit low level and hard to work with.  We, in this class, will be using Pandas.  Pandas is (mostly) a wrapper around NumPy, making it far friendlier and easier to work with.\n",
    "\n",
    "Just the Pandas library for Python has between 5-10 million users.  People at companies and organizations around the world are using Pandas more and more to analyze their data:\n",
    "\n",
    "- E-commerce companies\n",
    "- Manufacturers\n",
    "- Banks and financial institutions\n",
    "- Marketing companies\n",
    "\n"
   ]
  },
  {
   "cell_type": "markdown",
   "metadata": {},
   "source": [
    "# Data structures in Python"
   ]
  },
  {
   "cell_type": "code",
   "execution_count": null,
   "metadata": {},
   "outputs": [],
   "source": [
    "\n"
   ]
  }
 ],
 "metadata": {
  "kernelspec": {
   "display_name": "Python 3 (ipykernel)",
   "language": "python",
   "name": "python3"
  },
  "language_info": {
   "codemirror_mode": {
    "name": "ipython",
    "version": 3
   },
   "file_extension": ".py",
   "mimetype": "text/x-python",
   "name": "python",
   "nbconvert_exporter": "python",
   "pygments_lexer": "ipython3",
   "version": "3.10.5"
  }
 },
 "nbformat": 4,
 "nbformat_minor": 4
}
