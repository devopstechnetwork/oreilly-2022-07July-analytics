{
 "cells": [
  {
   "cell_type": "markdown",
   "metadata": {},
   "source": [
    "# Welcome and agenda\n",
    "\n",
    "1. Getting started\n",
    "    - What is data analysis?\n",
    "    - What is Pandas?\n",
    "    - Descriptive statistics\n",
    "    - Using Pandas series\n",
    "    - Broadcasting \n",
    "    - Mask arrays\n",
    "    - Useful methods\n",
    "2. Data types and data frames\n",
    "    - dtypes (different types of data we can store)\n",
    "    - `NaN` (\"not a number\")\n",
    "    - Data frames\n",
    "    - Querying with boolean/mask indexes\n",
    "    - Reading CSV data\n",
    "3. Real-world data\n",
    "    - CSV\n",
    "    - Online data\n",
    "    - Sorting\n",
    "    - Grouping\n",
    "    - Pivot tables\n",
    "    \n",
    "\n",
    "\n"
   ]
  },
  {
   "cell_type": "code",
   "execution_count": null,
   "metadata": {},
   "outputs": [],
   "source": []
  }
 ],
 "metadata": {
  "kernelspec": {
   "display_name": "Python 3 (ipykernel)",
   "language": "python",
   "name": "python3"
  },
  "language_info": {
   "codemirror_mode": {
    "name": "ipython",
    "version": 3
   },
   "file_extension": ".py",
   "mimetype": "text/x-python",
   "name": "python",
   "nbconvert_exporter": "python",
   "pygments_lexer": "ipython3",
   "version": "3.10.5"
  }
 },
 "nbformat": 4,
 "nbformat_minor": 4
}
