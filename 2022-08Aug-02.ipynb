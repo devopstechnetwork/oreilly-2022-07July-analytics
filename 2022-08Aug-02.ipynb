{
 "cells": [
  {
   "cell_type": "markdown",
   "metadata": {},
   "source": [
    "# Welcome and agenda\n",
    "\n",
    "1. Getting started\n",
    "    - What is data analysis?\n",
    "    - What is Pandas?\n",
    "    - Descriptive statistics\n",
    "    - Using Pandas series\n",
    "    - Broadcasting \n",
    "    - Mask arrays\n",
    "    - Useful methods\n",
    "2. Data types and data frames\n",
    "    - dtypes (different types of data we can store)\n",
    "    - `NaN` (\"not a number\")\n",
    "    - Data frames\n",
    "    - Querying with boolean/mask indexes\n",
    "    - Reading CSV data\n",
    "3. Real-world data\n",
    "    - CSV\n",
    "    - Online data\n",
    "    - Sorting\n",
    "    - Grouping\n",
    "    - Pivot tables\n",
    "    - Joining\n",
    "    - Cleaning data\n",
    "4. Text and dates\n",
    "    - Text\n",
    "    - Dates\n",
    "5. Visualization\n",
    "    - Line plots\n",
    "    - Bar plots\n",
    "    - Histograms\n",
    "    - Pie plots\n",
    "    - Scatter plots\n",
    "    - Boxplots\n",
    "    \n",
    "\n",
    "\n"
   ]
  },
  {
   "cell_type": "markdown",
   "metadata": {},
   "source": [
    "# What is data?\n",
    "\n",
    "If we're talking about data analysis, then we should really know what data is!\n",
    "\n",
    "The nouns in the computer world are data.\n",
    "    - Files (lots of types of files)\n",
    "    - Logs (info"
   ]
  }
 ],
 "metadata": {
  "kernelspec": {
   "display_name": "Python 3 (ipykernel)",
   "language": "python",
   "name": "python3"
  },
  "language_info": {
   "codemirror_mode": {
    "name": "ipython",
    "version": 3
   },
   "file_extension": ".py",
   "mimetype": "text/x-python",
   "name": "python",
   "nbconvert_exporter": "python",
   "pygments_lexer": "ipython3",
   "version": "3.10.5"
  }
 },
 "nbformat": 4,
 "nbformat_minor": 4
}
